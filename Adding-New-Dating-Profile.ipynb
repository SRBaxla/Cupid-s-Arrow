{
 "cells": [
  {
   "cell_type": "markdown",
   "metadata": {},
   "source": [
    "# Adding a New Dating Profile\n",
    "Using Classification or Clustering for a New Dating Profile"
   ]
  },
  {
   "cell_type": "markdown",
   "metadata": {},
   "source": [
    "### Importing Libraries and Data"
   ]
  },
  {
   "cell_type": "code",
   "execution_count": 2,
   "metadata": {},
   "outputs": [],
   "source": [
    "import pandas as pd\n",
    "pd.set_option('display.max_colwidth', 500)\n",
    "import numpy as np\n",
    "import matplotlib.pyplot as plt\n",
    "import seaborn as sns\n",
    "import _pickle as pickle\n",
    "from sklearn.feature_extraction.text import CountVectorizer\n",
    "from sklearn.cluster import AgglomerativeClustering\n",
    "from sklearn.metrics import calinski_harabasz_score, silhouette_score, davies_bouldin_score\n",
    "from sklearn.preprocessing import MinMaxScaler\n",
    "from sklearn.model_selection import train_test_split\n",
    "from sklearn.metrics import confusion_matrix, classification_report\n",
    "from sklearn.pipeline import Pipeline\n",
    "from tqdm import tqdm_notebook as tqdm"
   ]
  },
  {
   "cell_type": "markdown",
   "metadata": {},
   "source": [
    "#### Loading the Profiles"
   ]
  },
  {
   "cell_type": "code",
   "execution_count": 3,
   "metadata": {},
   "outputs": [
    {
     "data": {
      "text/html": [
       "<div>\n",
       "<style scoped>\n",
       "    .dataframe tbody tr th:only-of-type {\n",
       "        vertical-align: middle;\n",
       "    }\n",
       "\n",
       "    .dataframe tbody tr th {\n",
       "        vertical-align: top;\n",
       "    }\n",
       "\n",
       "    .dataframe thead th {\n",
       "        text-align: right;\n",
       "    }\n",
       "</style>\n",
       "<table border=\"1\" class=\"dataframe\">\n",
       "  <thead>\n",
       "    <tr style=\"text-align: right;\">\n",
       "      <th></th>\n",
       "      <th>Bios</th>\n",
       "      <th>Movies</th>\n",
       "      <th>TV</th>\n",
       "      <th>Religion</th>\n",
       "      <th>Music</th>\n",
       "      <th>Sports</th>\n",
       "      <th>Books</th>\n",
       "      <th>Politics</th>\n",
       "    </tr>\n",
       "  </thead>\n",
       "  <tbody>\n",
       "    <tr>\n",
       "      <th>0</th>\n",
       "      <td>Evil communicator. Avid analyst. Freelance gamer. Beer specialist. Incurable troublemaker. Typical entrepreneur.</td>\n",
       "      <td>8</td>\n",
       "      <td>1</td>\n",
       "      <td>2</td>\n",
       "      <td>8</td>\n",
       "      <td>4</td>\n",
       "      <td>7</td>\n",
       "      <td>5</td>\n",
       "    </tr>\n",
       "    <tr>\n",
       "      <th>1</th>\n",
       "      <td>Alcohol lover. Evil analyst. Infuriatingly humble gamer. Future teen idol. Entrepreneur.</td>\n",
       "      <td>2</td>\n",
       "      <td>1</td>\n",
       "      <td>1</td>\n",
       "      <td>4</td>\n",
       "      <td>5</td>\n",
       "      <td>1</td>\n",
       "      <td>3</td>\n",
       "    </tr>\n",
       "    <tr>\n",
       "      <th>2</th>\n",
       "      <td>Amateur pop culture ninja. Social media expert. Future teen idol. Web lover. Travel advocate. Student. Music scholar.</td>\n",
       "      <td>8</td>\n",
       "      <td>2</td>\n",
       "      <td>0</td>\n",
       "      <td>8</td>\n",
       "      <td>7</td>\n",
       "      <td>8</td>\n",
       "      <td>1</td>\n",
       "    </tr>\n",
       "    <tr>\n",
       "      <th>3</th>\n",
       "      <td>Wannabe baconaholic. Music evangelist. Hardcore alcohol ninja. Social media fan.</td>\n",
       "      <td>7</td>\n",
       "      <td>3</td>\n",
       "      <td>8</td>\n",
       "      <td>6</td>\n",
       "      <td>2</td>\n",
       "      <td>4</td>\n",
       "      <td>1</td>\n",
       "    </tr>\n",
       "    <tr>\n",
       "      <th>4</th>\n",
       "      <td>Wannabe creator. Student. Social media enthusiast. Amateur gamer. Twitter ninja. Friendly problem solver. Devoted web guru.</td>\n",
       "      <td>2</td>\n",
       "      <td>9</td>\n",
       "      <td>2</td>\n",
       "      <td>2</td>\n",
       "      <td>8</td>\n",
       "      <td>8</td>\n",
       "      <td>8</td>\n",
       "    </tr>\n",
       "  </tbody>\n",
       "</table>\n",
       "</div>"
      ],
      "text/plain": [
       "                                                                                                                          Bios  \\\n",
       "0             Evil communicator. Avid analyst. Freelance gamer. Beer specialist. Incurable troublemaker. Typical entrepreneur.   \n",
       "1                                     Alcohol lover. Evil analyst. Infuriatingly humble gamer. Future teen idol. Entrepreneur.   \n",
       "2        Amateur pop culture ninja. Social media expert. Future teen idol. Web lover. Travel advocate. Student. Music scholar.   \n",
       "3                                             Wannabe baconaholic. Music evangelist. Hardcore alcohol ninja. Social media fan.   \n",
       "4  Wannabe creator. Student. Social media enthusiast. Amateur gamer. Twitter ninja. Friendly problem solver. Devoted web guru.   \n",
       "\n",
       "   Movies  TV  Religion  Music  Sports  Books  Politics  \n",
       "0       8   1         2      8       4      7         5  \n",
       "1       2   1         1      4       5      1         3  \n",
       "2       8   2         0      8       7      8         1  \n",
       "3       7   3         8      6       2      4         1  \n",
       "4       2   9         2      2       8      8         8  "
      ]
     },
     "execution_count": 3,
     "metadata": {},
     "output_type": "execute_result"
    }
   ],
   "source": [
    "# Loading in the cleaned DF\n",
    "with open(\"Data-Gathering-Creation\\profiles.pkl\",'rb') as fp:\n",
    "    raw_df = pickle.load(fp)\n",
    "\n",
    "# Viewing the DF    \n",
    "raw_df.head()"
   ]
  },
  {
   "cell_type": "markdown",
   "metadata": {},
   "source": [
    "#### Loading the Clustered Profiles"
   ]
  },
  {
   "cell_type": "code",
   "execution_count": 4,
   "metadata": {},
   "outputs": [
    {
     "data": {
      "text/html": [
       "<div>\n",
       "<style scoped>\n",
       "    .dataframe tbody tr th:only-of-type {\n",
       "        vertical-align: middle;\n",
       "    }\n",
       "\n",
       "    .dataframe tbody tr th {\n",
       "        vertical-align: top;\n",
       "    }\n",
       "\n",
       "    .dataframe thead th {\n",
       "        text-align: right;\n",
       "    }\n",
       "</style>\n",
       "<table border=\"1\" class=\"dataframe\">\n",
       "  <thead>\n",
       "    <tr style=\"text-align: right;\">\n",
       "      <th></th>\n",
       "      <th>Bios</th>\n",
       "      <th>Movies</th>\n",
       "      <th>TV</th>\n",
       "      <th>Religion</th>\n",
       "      <th>Music</th>\n",
       "      <th>Sports</th>\n",
       "      <th>Books</th>\n",
       "      <th>Politics</th>\n",
       "      <th>Cluster #</th>\n",
       "    </tr>\n",
       "  </thead>\n",
       "  <tbody>\n",
       "    <tr>\n",
       "      <th>6235</th>\n",
       "      <td>Freelance web aficionado. Coffee nerd. Twitter maven. Devoted pop culture guru. Tv scholar. Avid explorer.</td>\n",
       "      <td>5.0</td>\n",
       "      <td>8.0</td>\n",
       "      <td>8.0</td>\n",
       "      <td>0.0</td>\n",
       "      <td>8.0</td>\n",
       "      <td>0.0</td>\n",
       "      <td>0.0</td>\n",
       "      <td>4</td>\n",
       "    </tr>\n",
       "    <tr>\n",
       "      <th>6236</th>\n",
       "      <td>Bacon lover. Organizer. Subtly charming music advocate. Travel ninja. Passionate reader. Avid web fan. Extreme pop culture scholar.</td>\n",
       "      <td>9.0</td>\n",
       "      <td>2.0</td>\n",
       "      <td>2.0</td>\n",
       "      <td>8.0</td>\n",
       "      <td>2.0</td>\n",
       "      <td>3.0</td>\n",
       "      <td>2.0</td>\n",
       "      <td>0</td>\n",
       "    </tr>\n",
       "    <tr>\n",
       "      <th>6237</th>\n",
       "      <td>Unapologetic coffee advocate. Professional tv geek. Alcohol expert. Social media fan. Pop culture practitioner.</td>\n",
       "      <td>6.0</td>\n",
       "      <td>3.0</td>\n",
       "      <td>2.0</td>\n",
       "      <td>8.0</td>\n",
       "      <td>6.0</td>\n",
       "      <td>5.0</td>\n",
       "      <td>8.0</td>\n",
       "      <td>4</td>\n",
       "    </tr>\n",
       "    <tr>\n",
       "      <th>6238</th>\n",
       "      <td>Subtly charming pop culture aficionado. Social mediaholic. Bacon junkie. Wannabe twitter advocate. Friendly internet practitioner.</td>\n",
       "      <td>8.0</td>\n",
       "      <td>6.0</td>\n",
       "      <td>5.0</td>\n",
       "      <td>3.0</td>\n",
       "      <td>4.0</td>\n",
       "      <td>9.0</td>\n",
       "      <td>4.0</td>\n",
       "      <td>11</td>\n",
       "    </tr>\n",
       "    <tr>\n",
       "      <th>6239</th>\n",
       "      <td>Incurable explorer. Devoted communicator. Subtly charming organizer. Thinker. Beer maven. Avid web specialist. Twitter ninja.</td>\n",
       "      <td>2.0</td>\n",
       "      <td>3.0</td>\n",
       "      <td>8.0</td>\n",
       "      <td>2.0</td>\n",
       "      <td>0.0</td>\n",
       "      <td>1.0</td>\n",
       "      <td>1.0</td>\n",
       "      <td>0</td>\n",
       "    </tr>\n",
       "  </tbody>\n",
       "</table>\n",
       "</div>"
      ],
      "text/plain": [
       "                                                                                                                                     Bios  \\\n",
       "6235                           Freelance web aficionado. Coffee nerd. Twitter maven. Devoted pop culture guru. Tv scholar. Avid explorer.   \n",
       "6236  Bacon lover. Organizer. Subtly charming music advocate. Travel ninja. Passionate reader. Avid web fan. Extreme pop culture scholar.   \n",
       "6237                      Unapologetic coffee advocate. Professional tv geek. Alcohol expert. Social media fan. Pop culture practitioner.   \n",
       "6238   Subtly charming pop culture aficionado. Social mediaholic. Bacon junkie. Wannabe twitter advocate. Friendly internet practitioner.   \n",
       "6239        Incurable explorer. Devoted communicator. Subtly charming organizer. Thinker. Beer maven. Avid web specialist. Twitter ninja.   \n",
       "\n",
       "      Movies   TV  Religion  Music  Sports  Books  Politics  Cluster #  \n",
       "6235     5.0  8.0       8.0    0.0     8.0    0.0       0.0          4  \n",
       "6236     9.0  2.0       2.0    8.0     2.0    3.0       2.0          0  \n",
       "6237     6.0  3.0       2.0    8.0     6.0    5.0       8.0          4  \n",
       "6238     8.0  6.0       5.0    3.0     4.0    9.0       4.0         11  \n",
       "6239     2.0  3.0       8.0    2.0     0.0    1.0       1.0          0  "
      ]
     },
     "execution_count": 4,
     "metadata": {},
     "output_type": "execute_result"
    }
   ],
   "source": [
    "# Loading in the clustered DF\n",
    "with open(\"clustered_profiles.pkl\",'rb') as fp:\n",
    "    cluster_df = pickle.load(fp)\n",
    "\n",
    "# Viewing the DF    \n",
    "cluster_df.tail()"
   ]
  },
  {
   "cell_type": "markdown",
   "metadata": {},
   "source": [
    "## Creating the New Profile Data"
   ]
  },
  {
   "cell_type": "code",
   "execution_count": 5,
   "metadata": {},
   "outputs": [
    {
     "name": "stdout",
     "output_type": "stream",
     "text": [
      "Enter new profile information...\n",
      "\n",
      "Example Bio:\n",
      "Bacon enthusiast. Falls down a lot. Freelance social media fan. Infuriatingly humble introvert.\n",
      "Enter a Bio for yourself: Gaming enthusiast. Falls down a lot. Freelance. Infuriatingly humble introvert.\n"
     ]
    }
   ],
   "source": [
    "# Instantiating a new DF row to append later\n",
    "new_profile = pd.DataFrame(columns=raw_df.columns)\n",
    "\n",
    "# Adding random values for new data\n",
    "for i in new_profile.columns[1:]:\n",
    "    new_profile[i] = np.random.randint(0,10,1)\n",
    "\n",
    "# Printing an user interface for inputting new values\n",
    "print(\"Enter new profile information...\\n\\nExample Bio:\\nBacon enthusiast. Falls down a lot. Freelance social media fan. Infuriatingly humble introvert.\")\n",
    "\n",
    "# Asking for new profile data\n",
    "new_profile['Bios'] = input(\"Enter a Bio for yourself: \")\n",
    "\n",
    "# Indexing that new profile data\n",
    "new_profile.index = [raw_df.index[-1] + 1]"
   ]
  },
  {
   "cell_type": "markdown",
   "metadata": {},
   "source": [
    "### The New Data"
   ]
  },
  {
   "cell_type": "code",
   "execution_count": 6,
   "metadata": {},
   "outputs": [
    {
     "data": {
      "text/html": [
       "<div>\n",
       "<style scoped>\n",
       "    .dataframe tbody tr th:only-of-type {\n",
       "        vertical-align: middle;\n",
       "    }\n",
       "\n",
       "    .dataframe tbody tr th {\n",
       "        vertical-align: top;\n",
       "    }\n",
       "\n",
       "    .dataframe thead th {\n",
       "        text-align: right;\n",
       "    }\n",
       "</style>\n",
       "<table border=\"1\" class=\"dataframe\">\n",
       "  <thead>\n",
       "    <tr style=\"text-align: right;\">\n",
       "      <th></th>\n",
       "      <th>Bios</th>\n",
       "      <th>Movies</th>\n",
       "      <th>TV</th>\n",
       "      <th>Religion</th>\n",
       "      <th>Music</th>\n",
       "      <th>Sports</th>\n",
       "      <th>Books</th>\n",
       "      <th>Politics</th>\n",
       "    </tr>\n",
       "  </thead>\n",
       "  <tbody>\n",
       "    <tr>\n",
       "      <th>6240</th>\n",
       "      <td>Gaming enthusiast. Falls down a lot. Freelance. Infuriatingly humble introvert.</td>\n",
       "      <td>0</td>\n",
       "      <td>4</td>\n",
       "      <td>4</td>\n",
       "      <td>1</td>\n",
       "      <td>0</td>\n",
       "      <td>0</td>\n",
       "      <td>8</td>\n",
       "    </tr>\n",
       "  </tbody>\n",
       "</table>\n",
       "</div>"
      ],
      "text/plain": [
       "                                                                                 Bios  \\\n",
       "6240  Gaming enthusiast. Falls down a lot. Freelance. Infuriatingly humble introvert.   \n",
       "\n",
       "      Movies  TV  Religion  Music  Sports  Books  Politics  \n",
       "6240       0   4         4      1       0      0         8  "
      ]
     },
     "execution_count": 6,
     "metadata": {},
     "output_type": "execute_result"
    }
   ],
   "source": [
    "new_profile"
   ]
  },
  {
   "cell_type": "markdown",
   "metadata": {},
   "source": [
    "# Two Approaches\n",
    "1. Cluster all the profiles again with the new profile\n",
    "\n",
    "2. Classify the new profile with a classification model trained on our previously clustered data"
   ]
  },
  {
   "cell_type": "markdown",
   "metadata": {},
   "source": [
    "## Clustering the New Profile Data"
   ]
  },
  {
   "cell_type": "code",
   "execution_count": 9,
   "metadata": {},
   "outputs": [
    {
     "name": "stderr",
     "output_type": "stream",
     "text": [
      "C:\\Users\\SRBaxla\\AppData\\Local\\Temp\\ipykernel_14088\\3326564345.py:2: FutureWarning: The frame.append method is deprecated and will be removed from pandas in a future version. Use pandas.concat instead.\n",
      "  new_cluster = raw_df.append(new_profile)\n"
     ]
    }
   ],
   "source": [
    "# Appending the new data\n",
    "new_cluster = raw_df.append(new_profile)"
   ]
  },
  {
   "cell_type": "markdown",
   "metadata": {},
   "source": [
    "### Scaling"
   ]
  },
  {
   "cell_type": "code",
   "execution_count": 10,
   "metadata": {},
   "outputs": [],
   "source": [
    "# Instantiating the Scaler\n",
    "scaler = MinMaxScaler()\n",
    "\n",
    "# Scaling the categories then replacing the old values\n",
    "df = new_cluster[['Bios']].join(pd.DataFrame(scaler.fit_transform(new_cluster.drop('Bios', axis=1)), columns=new_cluster.columns[1:], index=new_cluster.index))"
   ]
  },
  {
   "cell_type": "markdown",
   "metadata": {},
   "source": [
    "### Vectorizing"
   ]
  },
  {
   "cell_type": "code",
   "execution_count": 11,
   "metadata": {},
   "outputs": [
    {
     "name": "stderr",
     "output_type": "stream",
     "text": [
      "C:\\Python310\\lib\\site-packages\\sklearn\\utils\\deprecation.py:87: FutureWarning: Function get_feature_names is deprecated; get_feature_names is deprecated in 1.0 and will be removed in 1.2. Please use get_feature_names_out instead.\n",
      "  warnings.warn(msg, category=FutureWarning)\n"
     ]
    }
   ],
   "source": [
    "# Instantiating the Vectorizer\n",
    "vectorizer = CountVectorizer()\n",
    "\n",
    "# Fitting the vectorizer to the Bios\n",
    "x = vectorizer.fit_transform(df['Bios'])\n",
    "\n",
    "# Creating a new DF that contains the vectorized words\n",
    "df_wrds = pd.DataFrame(x.toarray(), columns=vectorizer.get_feature_names())\n",
    "\n",
    "# Concating the words DF with the original DF\n",
    "new_df = pd.concat([df, df_wrds], axis=1)\n",
    "\n",
    "# Dropping the Bios because it is no longer needed in place of vectorization\n",
    "new_df.drop('Bios', axis=1, inplace=True)"
   ]
  },
  {
   "cell_type": "markdown",
   "metadata": {},
   "source": [
    "### PCA"
   ]
  },
  {
   "cell_type": "code",
   "execution_count": 12,
   "metadata": {},
   "outputs": [
    {
     "data": {
      "text/plain": [
       "0.9898303364752749"
      ]
     },
     "execution_count": 12,
     "metadata": {},
     "output_type": "execute_result"
    }
   ],
   "source": [
    "from sklearn.decomposition import PCA\n",
    "\n",
    "# Instantiating PCA\n",
    "pca = PCA()\n",
    "\n",
    "# Fitting and Transforming the DF\n",
    "df_pca = pca.fit_transform(new_df)\n",
    "\n",
    "# Finding the exact number of features that explain at least 99% of the variance in the dataset\n",
    "total_explained_variance = pca.explained_variance_ratio_.cumsum()\n",
    "n_over_99 = len(total_explained_variance[total_explained_variance>=.99])\n",
    "n_to_reach_99 = new_df.shape[1] - n_over_99\n",
    "\n",
    "# Reducing the dataset to the number of features determined before\n",
    "pca = PCA(n_components=n_to_reach_99)\n",
    "\n",
    "# Fitting and transforming the dataset to the stated number of features\n",
    "df_pca = pca.fit_transform(new_df)\n",
    "\n",
    "# Seeing the variance ratio that still remains after the dataset has been reduced\n",
    "pca.explained_variance_ratio_.cumsum()[-1]"
   ]
  },
  {
   "cell_type": "markdown",
   "metadata": {},
   "source": [
    "### Performing Hierarchical Agglomerative Clustering\n",
    "- First finding the optimum number of clusters"
   ]
  },
  {
   "cell_type": "code",
   "execution_count": 14,
   "metadata": {
    "scrolled": true
   },
   "outputs": [
    {
     "name": "stderr",
     "output_type": "stream",
     "text": [
      "C:\\Users\\SRBaxla\\AppData\\Local\\Temp\\ipykernel_14088\\3591206986.py:12: TqdmDeprecationWarning: This function will be removed in tqdm==5.0.0\n",
      "Please use `tqdm.notebook.tqdm` instead of `tqdm.tqdm_notebook`\n",
      "  for i in tqdm(cluster_cnt):\n"
     ]
    },
    {
     "data": {
      "application/vnd.jupyter.widget-view+json": {
       "model_id": "0707df11de8c4ce8816bf1a018c26eba",
       "version_major": 2,
       "version_minor": 0
      },
      "text/plain": [
       "  0%|          | 0/18 [00:00<?, ?it/s]"
      ]
     },
     "metadata": {},
     "output_type": "display_data"
    }
   ],
   "source": [
    "# Setting the amount of clusters to test out\n",
    "cluster_cnt = [i for i in range(2, 20, 1)]\n",
    "\n",
    "# Establishing empty lists to store the scores for the evaluation metrics\n",
    "ch_scores = []\n",
    "\n",
    "s_scores = []\n",
    "\n",
    "db_scores = []\n",
    "\n",
    "# Looping through different iterations for the number of clusters\n",
    "for i in tqdm(cluster_cnt):\n",
    "    \n",
    "    # Clustering with different number of clusters\n",
    "    hac = AgglomerativeClustering(n_clusters=i)\n",
    "    \n",
    "    hac.fit(df_pca)\n",
    "    \n",
    "    cluster_assignments = hac.labels_\n",
    "    \n",
    "    # Appending the scores to the empty lists\n",
    "    ch_scores.append(calinski_harabasz_score(df_pca, cluster_assignments))\n",
    "    \n",
    "    s_scores.append(silhouette_score(df_pca, cluster_assignments))\n",
    "    \n",
    "    db_scores.append(davies_bouldin_score(df_pca, cluster_assignments))"
   ]
  },
  {
   "cell_type": "markdown",
   "metadata": {},
   "source": [
    "### Helper Function to Evaluate the Clusters"
   ]
  },
  {
   "cell_type": "code",
   "execution_count": 15,
   "metadata": {},
   "outputs": [],
   "source": [
    "def cluster_eval(y, x):\n",
    "    \"\"\"\n",
    "    Prints the scores of a set evaluation metric. Prints out the max and min values of the evaluation scores.\n",
    "    \"\"\"\n",
    "    \n",
    "    # Creating a DataFrame for returning the max and min scores for each cluster\n",
    "    df = pd.DataFrame(columns=['Cluster Score'], index=[i for i in range(2, len(y)+2)])\n",
    "    df['Cluster Score'] = y\n",
    "    \n",
    "    print('Max Value:\\nCluster #', df[df['Cluster Score']==df['Cluster Score'].max()])\n",
    "    print('\\nMin Value:\\nCluster #', df[df['Cluster Score']==df['Cluster Score'].min()])"
   ]
  },
  {
   "cell_type": "markdown",
   "metadata": {},
   "source": [
    "### Evaluation of Clusters"
   ]
  },
  {
   "cell_type": "code",
   "execution_count": 16,
   "metadata": {},
   "outputs": [
    {
     "name": "stdout",
     "output_type": "stream",
     "text": [
      "The Calinski-Harabasz Score (find max score):\n",
      "Max Value:\n",
      "Cluster #    Cluster Score\n",
      "2     110.751817\n",
      "\n",
      "Min Value:\n",
      "Cluster #     Cluster Score\n",
      "19      73.169492\n",
      "\n",
      "The Silhouette Coefficient Score (find max score):\n",
      "Max Value:\n",
      "Cluster #     Cluster Score\n",
      "19       0.048401\n",
      "\n",
      "Min Value:\n",
      "Cluster #    Cluster Score\n",
      "2        0.01563\n",
      "\n",
      "The Davies-Bouldin Score (find minimum score):\n",
      "Max Value:\n",
      "Cluster #    Cluster Score\n",
      "2       6.149872\n",
      "\n",
      "Min Value:\n",
      "Cluster #     Cluster Score\n",
      "18       3.543702\n"
     ]
    }
   ],
   "source": [
    "print(\"The Calinski-Harabasz Score (find max score):\")\n",
    "cluster_eval(ch_scores, cluster_cnt)\n",
    "\n",
    "print(\"\\nThe Silhouette Coefficient Score (find max score):\")\n",
    "cluster_eval(s_scores, cluster_cnt)\n",
    "\n",
    "print(\"\\nThe Davies-Bouldin Score (find minimum score):\")\n",
    "cluster_eval(db_scores, cluster_cnt)"
   ]
  },
  {
   "cell_type": "markdown",
   "metadata": {},
   "source": [
    "### Running HAC\n",
    "Again but with the optimum cluster count"
   ]
  },
  {
   "cell_type": "code",
   "execution_count": 17,
   "metadata": {},
   "outputs": [],
   "source": [
    "# Instantiating HAC\n",
    "hac = AgglomerativeClustering(n_clusters=12)\n",
    "\n",
    "# Fitting\n",
    "hac.fit(df_pca)\n",
    "\n",
    "# Getting cluster assignments\n",
    "cluster_assignments = hac.labels_\n",
    "\n",
    "# Unscaling the categories then replacing the scaled values\n",
    "df = df[['Bios']].join(pd.DataFrame(scaler.inverse_transform(df.drop('Bios', axis=1)), columns=df.columns[1:], index=df.index))\n",
    "\n",
    "# Assigning the clusters to each profile\n",
    "df['Cluster #'] = cluster_assignments\n"
   ]
  },
  {
   "cell_type": "markdown",
   "metadata": {},
   "source": [
    "### Finding the Exact Cluster for our New Profile"
   ]
  },
  {
   "cell_type": "code",
   "execution_count": 18,
   "metadata": {
    "scrolled": true
   },
   "outputs": [],
   "source": [
    "# Getting the Cluster # for the new profile\n",
    "profile_cluster = df.loc[new_profile.index]['Cluster #'].values[0]\n",
    "\n",
    "# Using the Cluster # to narrow down the DF\n",
    "profile_df = df[df['Cluster #']==profile_cluster].drop('Cluster #', axis=1)"
   ]
  },
  {
   "cell_type": "markdown",
   "metadata": {},
   "source": [
    "### Vectorizing the Selected Cluster"
   ]
  },
  {
   "cell_type": "code",
   "execution_count": 19,
   "metadata": {},
   "outputs": [
    {
     "name": "stderr",
     "output_type": "stream",
     "text": [
      "C:\\Python310\\lib\\site-packages\\sklearn\\utils\\deprecation.py:87: FutureWarning: Function get_feature_names is deprecated; get_feature_names is deprecated in 1.0 and will be removed in 1.2. Please use get_feature_names_out instead.\n",
      "  warnings.warn(msg, category=FutureWarning)\n"
     ]
    }
   ],
   "source": [
    "# Fitting the vectorizer to the Bios\n",
    "cluster_x = vectorizer.fit_transform(profile_df['Bios'])\n",
    "\n",
    "# Creating a new DF that contains the vectorized words\n",
    "cluster_v = pd.DataFrame(cluster_x.toarray(), index=profile_df.index, columns=vectorizer.get_feature_names())\n",
    "\n",
    "# Joining the Vectorized DF to the previous DF\n",
    "profile_df = profile_df.join(cluster_v).drop('Bios', axis=1)"
   ]
  },
  {
   "cell_type": "markdown",
   "metadata": {},
   "source": [
    "### Finding Correlation for Top 10 Similar Profiles to the New Profile"
   ]
  },
  {
   "cell_type": "code",
   "execution_count": 20,
   "metadata": {},
   "outputs": [],
   "source": [
    "# Trasnposing the DF so that we are correlating with the index(users) and finding the correlation\n",
    "corr = profile_df.T.corr()\n",
    "\n",
    "# Finding the Top 10 similar or correlated users to the new user\n",
    "user_n = new_profile.index[0]\n",
    "\n",
    "# Creating a DF with the Top 10 most similar profiles\n",
    "top_10_sim = corr[[user_n]].sort_values(by=[user_n],axis=0, ascending=False)[1:11]"
   ]
  },
  {
   "cell_type": "markdown",
   "metadata": {},
   "source": [
    "### The Top 10 Profiles most likely to Match with the New Profile\n",
    "(Sorted by descending similarity)"
   ]
  },
  {
   "cell_type": "code",
   "execution_count": 21,
   "metadata": {},
   "outputs": [
    {
     "data": {
      "text/html": [
       "<div>\n",
       "<style scoped>\n",
       "    .dataframe tbody tr th:only-of-type {\n",
       "        vertical-align: middle;\n",
       "    }\n",
       "\n",
       "    .dataframe tbody tr th {\n",
       "        vertical-align: top;\n",
       "    }\n",
       "\n",
       "    .dataframe thead th {\n",
       "        text-align: right;\n",
       "    }\n",
       "</style>\n",
       "<table border=\"1\" class=\"dataframe\">\n",
       "  <thead>\n",
       "    <tr style=\"text-align: right;\">\n",
       "      <th></th>\n",
       "      <th>Bios</th>\n",
       "      <th>Movies</th>\n",
       "      <th>TV</th>\n",
       "      <th>Religion</th>\n",
       "      <th>Music</th>\n",
       "      <th>Sports</th>\n",
       "      <th>Books</th>\n",
       "      <th>Politics</th>\n",
       "    </tr>\n",
       "  </thead>\n",
       "  <tbody>\n",
       "    <tr>\n",
       "      <th>1957</th>\n",
       "      <td>Proud music nerd. Food evangelist. Travelaholic. Evil web fanatic. Future teen idol. Analyst.</td>\n",
       "      <td>1</td>\n",
       "      <td>5</td>\n",
       "      <td>5</td>\n",
       "      <td>1</td>\n",
       "      <td>0</td>\n",
       "      <td>0</td>\n",
       "      <td>9</td>\n",
       "    </tr>\n",
       "    <tr>\n",
       "      <th>3055</th>\n",
       "      <td>Falls down a lot. Infuriatingly humble internet practitioner. Freelance alcohol scholar. Friendly entrepreneur. Travel trailblazer. Reader.</td>\n",
       "      <td>1</td>\n",
       "      <td>6</td>\n",
       "      <td>5</td>\n",
       "      <td>2</td>\n",
       "      <td>3</td>\n",
       "      <td>3</td>\n",
       "      <td>7</td>\n",
       "    </tr>\n",
       "    <tr>\n",
       "      <th>1068</th>\n",
       "      <td>Food junkie. Organizer. Devoted music scholar. Alcohol enthusiast. Hardcore communicator.</td>\n",
       "      <td>1</td>\n",
       "      <td>7</td>\n",
       "      <td>2</td>\n",
       "      <td>1</td>\n",
       "      <td>3</td>\n",
       "      <td>0</td>\n",
       "      <td>9</td>\n",
       "    </tr>\n",
       "    <tr>\n",
       "      <th>593</th>\n",
       "      <td>Zombie evangelist. Troublemaker. Bacon junkie. Tv maven. Travel buff.</td>\n",
       "      <td>0</td>\n",
       "      <td>7</td>\n",
       "      <td>7</td>\n",
       "      <td>3</td>\n",
       "      <td>1</td>\n",
       "      <td>2</td>\n",
       "      <td>7</td>\n",
       "    </tr>\n",
       "    <tr>\n",
       "      <th>2643</th>\n",
       "      <td>Writer. Evil coffeeaholic. Organizer. Food advocate. Amateur bacon aficionado. Travel expert. Student.</td>\n",
       "      <td>0</td>\n",
       "      <td>7</td>\n",
       "      <td>9</td>\n",
       "      <td>0</td>\n",
       "      <td>4</td>\n",
       "      <td>0</td>\n",
       "      <td>9</td>\n",
       "    </tr>\n",
       "    <tr>\n",
       "      <th>2639</th>\n",
       "      <td>Falls down a lot. Extreme web advocate. Award-winning music trailblazer. Friendly student.</td>\n",
       "      <td>2</td>\n",
       "      <td>3</td>\n",
       "      <td>6</td>\n",
       "      <td>5</td>\n",
       "      <td>2</td>\n",
       "      <td>2</td>\n",
       "      <td>9</td>\n",
       "    </tr>\n",
       "    <tr>\n",
       "      <th>6192</th>\n",
       "      <td>Beer fanatic. Travel geek. Pop cultureaholic. Friendly thinker. Twitter lover. Evil bacon nerd.</td>\n",
       "      <td>3</td>\n",
       "      <td>5</td>\n",
       "      <td>3</td>\n",
       "      <td>3</td>\n",
       "      <td>0</td>\n",
       "      <td>2</td>\n",
       "      <td>9</td>\n",
       "    </tr>\n",
       "    <tr>\n",
       "      <th>4702</th>\n",
       "      <td>Total analyst. Friendly beer advocate. Amateur communicator. Pop culture enthusiast.</td>\n",
       "      <td>3</td>\n",
       "      <td>8</td>\n",
       "      <td>3</td>\n",
       "      <td>0</td>\n",
       "      <td>1</td>\n",
       "      <td>0</td>\n",
       "      <td>8</td>\n",
       "    </tr>\n",
       "    <tr>\n",
       "      <th>2185</th>\n",
       "      <td>Friendly bacon expert. Tv nerd. Food advocate. Zombie fan. Coffee maven. Student. Gamer. Amateur web scholar.</td>\n",
       "      <td>0</td>\n",
       "      <td>3</td>\n",
       "      <td>5</td>\n",
       "      <td>1</td>\n",
       "      <td>1</td>\n",
       "      <td>3</td>\n",
       "      <td>8</td>\n",
       "    </tr>\n",
       "    <tr>\n",
       "      <th>4090</th>\n",
       "      <td>Hardcore twitter practitioner. Devoted organizer. Avid student. Beer lover. Extreme explorer.</td>\n",
       "      <td>3</td>\n",
       "      <td>7</td>\n",
       "      <td>4</td>\n",
       "      <td>2</td>\n",
       "      <td>4</td>\n",
       "      <td>1</td>\n",
       "      <td>9</td>\n",
       "    </tr>\n",
       "  </tbody>\n",
       "</table>\n",
       "</div>"
      ],
      "text/plain": [
       "                                                                                                                                             Bios  \\\n",
       "1957                                                Proud music nerd. Food evangelist. Travelaholic. Evil web fanatic. Future teen idol. Analyst.   \n",
       "3055  Falls down a lot. Infuriatingly humble internet practitioner. Freelance alcohol scholar. Friendly entrepreneur. Travel trailblazer. Reader.   \n",
       "1068                                                    Food junkie. Organizer. Devoted music scholar. Alcohol enthusiast. Hardcore communicator.   \n",
       "593                                                                         Zombie evangelist. Troublemaker. Bacon junkie. Tv maven. Travel buff.   \n",
       "2643                                       Writer. Evil coffeeaholic. Organizer. Food advocate. Amateur bacon aficionado. Travel expert. Student.   \n",
       "2639                                                   Falls down a lot. Extreme web advocate. Award-winning music trailblazer. Friendly student.   \n",
       "6192                                              Beer fanatic. Travel geek. Pop cultureaholic. Friendly thinker. Twitter lover. Evil bacon nerd.   \n",
       "4702                                                         Total analyst. Friendly beer advocate. Amateur communicator. Pop culture enthusiast.   \n",
       "2185                                Friendly bacon expert. Tv nerd. Food advocate. Zombie fan. Coffee maven. Student. Gamer. Amateur web scholar.   \n",
       "4090                                                Hardcore twitter practitioner. Devoted organizer. Avid student. Beer lover. Extreme explorer.   \n",
       "\n",
       "      Movies  TV  Religion  Music  Sports  Books  Politics  \n",
       "1957       1   5         5      1       0      0         9  \n",
       "3055       1   6         5      2       3      3         7  \n",
       "1068       1   7         2      1       3      0         9  \n",
       "593        0   7         7      3       1      2         7  \n",
       "2643       0   7         9      0       4      0         9  \n",
       "2639       2   3         6      5       2      2         9  \n",
       "6192       3   5         3      3       0      2         9  \n",
       "4702       3   8         3      0       1      0         8  \n",
       "2185       0   3         5      1       1      3         8  \n",
       "4090       3   7         4      2       4      1         9  "
      ]
     },
     "execution_count": 21,
     "metadata": {},
     "output_type": "execute_result"
    }
   ],
   "source": [
    "raw_df.loc[top_10_sim.index]"
   ]
  },
  {
   "cell_type": "markdown",
   "metadata": {},
   "source": [
    "## Classification of the New Profile"
   ]
  },
  {
   "cell_type": "markdown",
   "metadata": {},
   "source": [
    "### Importing the Different Classification Models"
   ]
  },
  {
   "cell_type": "code",
   "execution_count": 22,
   "metadata": {},
   "outputs": [],
   "source": [
    "# Importing 3 models\n",
    "from sklearn.dummy import DummyClassifier\n",
    "from sklearn.neighbors import KNeighborsClassifier\n",
    "from sklearn.svm import SVC"
   ]
  },
  {
   "cell_type": "markdown",
   "metadata": {},
   "source": [
    "### Vectorizing the Data"
   ]
  },
  {
   "cell_type": "code",
   "execution_count": 23,
   "metadata": {},
   "outputs": [
    {
     "name": "stderr",
     "output_type": "stream",
     "text": [
      "C:\\Users\\SRBaxla\\AppData\\Local\\Temp\\ipykernel_14088\\3293963468.py:2: FutureWarning: In a future version of pandas all arguments of DataFrame.drop except for the argument 'labels' will be keyword-only.\n",
      "  X = cluster_df.drop([\"Cluster #\"], 1)\n",
      "C:\\Python310\\lib\\site-packages\\sklearn\\utils\\deprecation.py:87: FutureWarning: Function get_feature_names is deprecated; get_feature_names is deprecated in 1.0 and will be removed in 1.2. Please use get_feature_names_out instead.\n",
      "  warnings.warn(msg, category=FutureWarning)\n"
     ]
    }
   ],
   "source": [
    "# Assigning the split variables\n",
    "X = cluster_df.drop([\"Cluster #\"], 1)\n",
    "y = cluster_df['Cluster #']\n",
    "\n",
    "## Vectorizing\n",
    "# Instantiating the Vectorizer\n",
    "vectorizer = CountVectorizer()\n",
    "\n",
    "# Fitting the vectorizer to the Bios\n",
    "x = vectorizer.fit_transform(X['Bios'])\n",
    "\n",
    "# Creating a new DF that contains the vectorized words\n",
    "df_wrds = pd.DataFrame(x.toarray(), columns=vectorizer.get_feature_names())\n",
    "\n",
    "# Concating the words DF with the original DF\n",
    "X = pd.concat([X, df_wrds], axis=1)\n",
    "\n",
    "# Dropping the Bios because it is no longer needed in place of vectorization\n",
    "X.drop(['Bios'], axis=1, inplace=True)"
   ]
  },
  {
   "cell_type": "markdown",
   "metadata": {},
   "source": [
    "#### Scaling"
   ]
  },
  {
   "cell_type": "code",
   "execution_count": 24,
   "metadata": {
    "scrolled": true
   },
   "outputs": [],
   "source": [
    "# Scaling the Data\n",
    "scaler = MinMaxScaler()\n",
    "\n",
    "X = pd.DataFrame(scaler.fit_transform(X), index=X.index, columns=X.columns)"
   ]
  },
  {
   "cell_type": "markdown",
   "metadata": {},
   "source": [
    "### Preparing the New Profile Data\n",
    "For Vectorization purposes, the new profile will have to be able to fit into trained data (has to have the same columns).\n",
    "\n",
    "Two Options:\n",
    "1. __Vectorized the New Profile data with the vectorizer fitted to the dataset as to not include potentially new vocabulary. _(Keeps dimensionality the same)___\n",
    "2. Vectorized the New Profile data with a new vectorizer fitted to it in order to include new vocabulary. _(Increases dimensionality with every new piece of data)_"
   ]
  },
  {
   "cell_type": "markdown",
   "metadata": {},
   "source": [
    "#### Vectorizing"
   ]
  },
  {
   "cell_type": "code",
   "execution_count": 25,
   "metadata": {},
   "outputs": [
    {
     "name": "stderr",
     "output_type": "stream",
     "text": [
      "C:\\Python310\\lib\\site-packages\\sklearn\\utils\\deprecation.py:87: FutureWarning: Function get_feature_names is deprecated; get_feature_names is deprecated in 1.0 and will be removed in 1.2. Please use get_feature_names_out instead.\n",
      "  warnings.warn(msg, category=FutureWarning)\n",
      "C:\\Users\\SRBaxla\\AppData\\Local\\Temp\\ipykernel_14088\\408791488.py:8: FutureWarning: In a future version of pandas all arguments of concat except for the argument 'objs' will be keyword-only.\n",
      "  new_vect_prof = pd.concat([new_profile, new_vect_w], 1).drop('Bios', 1)\n",
      "C:\\Users\\SRBaxla\\AppData\\Local\\Temp\\ipykernel_14088\\408791488.py:8: FutureWarning: In a future version of pandas all arguments of DataFrame.drop except for the argument 'labels' will be keyword-only.\n",
      "  new_vect_prof = pd.concat([new_profile, new_vect_w], 1).drop('Bios', 1)\n"
     ]
    }
   ],
   "source": [
    "# Vectorizing the new data\n",
    "vect_new_prof = vectorizer.transform(new_profile['Bios'])\n",
    "\n",
    "# Quick DF of the vectorized words\n",
    "new_vect_w = pd.DataFrame(vect_new_prof.toarray(), columns=vectorizer.get_feature_names(), index=new_profile.index)\n",
    "\n",
    "# Concatenating the DFs for the new profile data\n",
    "new_vect_prof = pd.concat([new_profile, new_vect_w], 1).drop('Bios', 1)\n",
    "\n",
    "# Scaling the new profile data\n",
    "new_vect_prof = pd.DataFrame(scaler.transform(new_vect_prof), columns=new_vect_prof.columns, index=new_vect_prof.index)"
   ]
  },
  {
   "cell_type": "code",
   "execution_count": 26,
   "metadata": {},
   "outputs": [
    {
     "data": {
      "text/html": [
       "<div>\n",
       "<style scoped>\n",
       "    .dataframe tbody tr th:only-of-type {\n",
       "        vertical-align: middle;\n",
       "    }\n",
       "\n",
       "    .dataframe tbody tr th {\n",
       "        vertical-align: top;\n",
       "    }\n",
       "\n",
       "    .dataframe thead th {\n",
       "        text-align: right;\n",
       "    }\n",
       "</style>\n",
       "<table border=\"1\" class=\"dataframe\">\n",
       "  <thead>\n",
       "    <tr style=\"text-align: right;\">\n",
       "      <th></th>\n",
       "      <th>Movies</th>\n",
       "      <th>TV</th>\n",
       "      <th>Religion</th>\n",
       "      <th>Music</th>\n",
       "      <th>Sports</th>\n",
       "      <th>Books</th>\n",
       "      <th>Politics</th>\n",
       "      <th>advocate</th>\n",
       "      <th>aficionado</th>\n",
       "      <th>alcohol</th>\n",
       "      <th>...</th>\n",
       "      <th>unable</th>\n",
       "      <th>unapologetic</th>\n",
       "      <th>wannabe</th>\n",
       "      <th>web</th>\n",
       "      <th>webaholic</th>\n",
       "      <th>winning</th>\n",
       "      <th>with</th>\n",
       "      <th>writer</th>\n",
       "      <th>zombie</th>\n",
       "      <th>zombieaholic</th>\n",
       "    </tr>\n",
       "  </thead>\n",
       "  <tbody>\n",
       "    <tr>\n",
       "      <th>6240</th>\n",
       "      <td>0.0</td>\n",
       "      <td>0.444444</td>\n",
       "      <td>0.444444</td>\n",
       "      <td>0.111111</td>\n",
       "      <td>0.0</td>\n",
       "      <td>0.0</td>\n",
       "      <td>0.888889</td>\n",
       "      <td>0.0</td>\n",
       "      <td>0.0</td>\n",
       "      <td>0.0</td>\n",
       "      <td>...</td>\n",
       "      <td>0.0</td>\n",
       "      <td>0.0</td>\n",
       "      <td>0.0</td>\n",
       "      <td>0.0</td>\n",
       "      <td>0.0</td>\n",
       "      <td>0.0</td>\n",
       "      <td>0.0</td>\n",
       "      <td>0.0</td>\n",
       "      <td>0.0</td>\n",
       "      <td>0.0</td>\n",
       "    </tr>\n",
       "  </tbody>\n",
       "</table>\n",
       "<p>1 rows × 117 columns</p>\n",
       "</div>"
      ],
      "text/plain": [
       "      Movies        TV  Religion     Music  Sports  Books  Politics  advocate  \\\n",
       "6240     0.0  0.444444  0.444444  0.111111     0.0    0.0  0.888889       0.0   \n",
       "\n",
       "      aficionado  alcohol  ...  unable  unapologetic  wannabe  web  webaholic  \\\n",
       "6240         0.0      0.0  ...     0.0           0.0      0.0  0.0        0.0   \n",
       "\n",
       "      winning  with  writer  zombie  zombieaholic  \n",
       "6240      0.0   0.0     0.0     0.0           0.0  \n",
       "\n",
       "[1 rows x 117 columns]"
      ]
     },
     "execution_count": 26,
     "metadata": {},
     "output_type": "execute_result"
    }
   ],
   "source": [
    "new_vect_prof"
   ]
  },
  {
   "cell_type": "markdown",
   "metadata": {},
   "source": [
    "### Train, test, splitting"
   ]
  },
  {
   "cell_type": "code",
   "execution_count": 27,
   "metadata": {},
   "outputs": [],
   "source": [
    "# Train, test, split\n",
    "X_train, X_test, y_train, y_test = train_test_split(X, y)"
   ]
  },
  {
   "cell_type": "markdown",
   "metadata": {},
   "source": [
    "### Finding the Best Model\n",
    "- Dummy (Baseline Model)\n",
    "- KNN\n",
    "- SVM"
   ]
  },
  {
   "cell_type": "code",
   "execution_count": 28,
   "metadata": {},
   "outputs": [],
   "source": [
    "# Dummy\n",
    "dummy = DummyClassifier(strategy='stratified')\n",
    "\n",
    "# KNN\n",
    "knn = KNeighborsClassifier()\n",
    "\n",
    "# SVM\n",
    "svm = SVC()\n",
    "\n",
    "# List of models\n",
    "models = [dummy, knn, svm]\n",
    "\n",
    "# List of model names\n",
    "names = ['Dummy', 'KNN', 'SVM']\n",
    "\n",
    "# Zipping the lists\n",
    "classifiers = dict(zip(names, models))"
   ]
  },
  {
   "cell_type": "markdown",
   "metadata": {},
   "source": [
    "Since we are dealing with an imbalanced dataset _(because each cluster is not guaranteed to have the same amount of profiles)_, we will resort to using the __Macro Avg__ and __F1 Score__ for evaluating the performances of each model."
   ]
  },
  {
   "cell_type": "code",
   "execution_count": 29,
   "metadata": {},
   "outputs": [
    {
     "name": "stdout",
     "output_type": "stream",
     "text": [
      "\n",
      "Dummy (Macro Avg - F1 Score):\n",
      "0.08762384403794359\n",
      "\n",
      "KNN (Macro Avg - F1 Score):\n",
      "0.9980606943087409\n",
      "\n",
      "SVM (Macro Avg - F1 Score):\n",
      "1.0\n"
     ]
    }
   ],
   "source": [
    "# Dictionary containing the model names and their scores\n",
    "models_f1 = {}\n",
    "\n",
    "# Looping through each model's predictions and getting their classification reports\n",
    "for name, model in classifiers.items():\n",
    "    # Fitting the model\n",
    "    model.fit(X_train, y_train)\n",
    "    \n",
    "    print('\\n'+ name + ' (Macro Avg - F1 Score):')\n",
    "    \n",
    "    # Classification Report\n",
    "    report = classification_report(y_test, model.predict(X_test), output_dict=True)\n",
    "    f1 = report['macro avg']['f1-score']\n",
    "    \n",
    "    # Assigning to the Dictionary\n",
    "    models_f1[name] = f1\n",
    "    \n",
    "    print(f1)"
   ]
  },
  {
   "cell_type": "markdown",
   "metadata": {},
   "source": [
    "#### Model with the Best Performance"
   ]
  },
  {
   "cell_type": "code",
   "execution_count": 30,
   "metadata": {},
   "outputs": [
    {
     "name": "stdout",
     "output_type": "stream",
     "text": [
      "SVM Score: 1.0\n"
     ]
    }
   ],
   "source": [
    "print(max(models_f1, key=models_f1.get), 'Score:', max(models_f1.values()))"
   ]
  },
  {
   "cell_type": "markdown",
   "metadata": {},
   "source": [
    "### Using the Best Model to Classify the New Profile\n",
    "_(Optional: Tune the model with GridSearch)_"
   ]
  },
  {
   "cell_type": "code",
   "execution_count": 31,
   "metadata": {},
   "outputs": [
    {
     "data": {
      "text/plain": [
       "array([1], dtype=int64)"
      ]
     },
     "execution_count": 31,
     "metadata": {},
     "output_type": "execute_result"
    }
   ],
   "source": [
    "# Fitting the model\n",
    "svm.fit(X, y)\n",
    "\n",
    "# Predicting the New Profile data by determining which Cluster it would belong to\n",
    "designated_cluster = svm.predict(new_vect_prof)\n",
    "\n",
    "designated_cluster"
   ]
  },
  {
   "cell_type": "markdown",
   "metadata": {},
   "source": [
    "### DF containing the Profiles of the Designated Cluster"
   ]
  },
  {
   "cell_type": "code",
   "execution_count": 33,
   "metadata": {},
   "outputs": [
    {
     "data": {
      "text/html": [
       "<div>\n",
       "<style scoped>\n",
       "    .dataframe tbody tr th:only-of-type {\n",
       "        vertical-align: middle;\n",
       "    }\n",
       "\n",
       "    .dataframe tbody tr th {\n",
       "        vertical-align: top;\n",
       "    }\n",
       "\n",
       "    .dataframe thead th {\n",
       "        text-align: right;\n",
       "    }\n",
       "</style>\n",
       "<table border=\"1\" class=\"dataframe\">\n",
       "  <thead>\n",
       "    <tr style=\"text-align: right;\">\n",
       "      <th></th>\n",
       "      <th>Bios</th>\n",
       "      <th>Movies</th>\n",
       "      <th>TV</th>\n",
       "      <th>Religion</th>\n",
       "      <th>Music</th>\n",
       "      <th>Sports</th>\n",
       "      <th>Books</th>\n",
       "      <th>Politics</th>\n",
       "      <th>Cluster #</th>\n",
       "    </tr>\n",
       "  </thead>\n",
       "  <tbody>\n",
       "    <tr>\n",
       "      <th>0</th>\n",
       "      <td>Evil communicator. Avid analyst. Freelance gamer. Beer specialist. Incurable troublemaker. Typical entrepreneur.</td>\n",
       "      <td>8.0</td>\n",
       "      <td>1.0</td>\n",
       "      <td>2.0</td>\n",
       "      <td>8.0</td>\n",
       "      <td>4.0</td>\n",
       "      <td>7.0</td>\n",
       "      <td>5.0</td>\n",
       "      <td>1</td>\n",
       "    </tr>\n",
       "    <tr>\n",
       "      <th>5</th>\n",
       "      <td>Beer trailblazer. Avid troublemaker. Pop culture specialist. Freelance explorer. Reader. Gamer.</td>\n",
       "      <td>7.0</td>\n",
       "      <td>4.0</td>\n",
       "      <td>5.0</td>\n",
       "      <td>5.0</td>\n",
       "      <td>8.0</td>\n",
       "      <td>1.0</td>\n",
       "      <td>4.0</td>\n",
       "      <td>1</td>\n",
       "    </tr>\n",
       "    <tr>\n",
       "      <th>10</th>\n",
       "      <td>Evil pop culture lover. Passionate travel advocate. Beer nerd. Gamer. Internet aficionado. Freelance bacon evangelist.</td>\n",
       "      <td>2.0</td>\n",
       "      <td>3.0</td>\n",
       "      <td>7.0</td>\n",
       "      <td>2.0</td>\n",
       "      <td>9.0</td>\n",
       "      <td>2.0</td>\n",
       "      <td>2.0</td>\n",
       "      <td>1</td>\n",
       "    </tr>\n",
       "    <tr>\n",
       "      <th>15</th>\n",
       "      <td>Evil communicator. Avid analyst. Freelance gamer. Beer specialist. Incurable troublemaker. Typical entrepreneur.</td>\n",
       "      <td>3.0</td>\n",
       "      <td>7.0</td>\n",
       "      <td>0.0</td>\n",
       "      <td>2.0</td>\n",
       "      <td>3.0</td>\n",
       "      <td>8.0</td>\n",
       "      <td>1.0</td>\n",
       "      <td>1</td>\n",
       "    </tr>\n",
       "    <tr>\n",
       "      <th>20</th>\n",
       "      <td>Beer trailblazer. Avid troublemaker. Pop culture specialist. Freelance explorer. Reader. Gamer.</td>\n",
       "      <td>1.0</td>\n",
       "      <td>0.0</td>\n",
       "      <td>6.0</td>\n",
       "      <td>7.0</td>\n",
       "      <td>2.0</td>\n",
       "      <td>6.0</td>\n",
       "      <td>0.0</td>\n",
       "      <td>1</td>\n",
       "    </tr>\n",
       "    <tr>\n",
       "      <th>...</th>\n",
       "      <td>...</td>\n",
       "      <td>...</td>\n",
       "      <td>...</td>\n",
       "      <td>...</td>\n",
       "      <td>...</td>\n",
       "      <td>...</td>\n",
       "      <td>...</td>\n",
       "      <td>...</td>\n",
       "      <td>...</td>\n",
       "    </tr>\n",
       "    <tr>\n",
       "      <th>6190</th>\n",
       "      <td>Alcohol specialist. Incurable web ninja. Travel guru. Zombie fanatic. Hardcore explorer.</td>\n",
       "      <td>1.0</td>\n",
       "      <td>6.0</td>\n",
       "      <td>7.0</td>\n",
       "      <td>3.0</td>\n",
       "      <td>3.0</td>\n",
       "      <td>8.0</td>\n",
       "      <td>4.0</td>\n",
       "      <td>1</td>\n",
       "    </tr>\n",
       "    <tr>\n",
       "      <th>6192</th>\n",
       "      <td>Beer fanatic. Travel geek. Pop cultureaholic. Friendly thinker. Twitter lover. Evil bacon nerd.</td>\n",
       "      <td>3.0</td>\n",
       "      <td>5.0</td>\n",
       "      <td>3.0</td>\n",
       "      <td>3.0</td>\n",
       "      <td>0.0</td>\n",
       "      <td>2.0</td>\n",
       "      <td>9.0</td>\n",
       "      <td>1</td>\n",
       "    </tr>\n",
       "    <tr>\n",
       "      <th>6197</th>\n",
       "      <td>Future teen idol. Travel trailblazer. Proud alcohol guru. Communicator. Foodaholic. Twitter maven. Bacon buff.</td>\n",
       "      <td>5.0</td>\n",
       "      <td>3.0</td>\n",
       "      <td>0.0</td>\n",
       "      <td>7.0</td>\n",
       "      <td>7.0</td>\n",
       "      <td>0.0</td>\n",
       "      <td>5.0</td>\n",
       "      <td>1</td>\n",
       "    </tr>\n",
       "    <tr>\n",
       "      <th>6212</th>\n",
       "      <td>Future teen idol. Travel trailblazer. Proud alcohol guru. Communicator. Foodaholic. Twitter maven. Bacon buff.</td>\n",
       "      <td>1.0</td>\n",
       "      <td>7.0</td>\n",
       "      <td>5.0</td>\n",
       "      <td>5.0</td>\n",
       "      <td>9.0</td>\n",
       "      <td>8.0</td>\n",
       "      <td>6.0</td>\n",
       "      <td>1</td>\n",
       "    </tr>\n",
       "    <tr>\n",
       "      <th>6227</th>\n",
       "      <td>Future teen idol. Travel trailblazer. Proud alcohol guru. Communicator. Foodaholic. Twitter maven. Bacon buff.</td>\n",
       "      <td>3.0</td>\n",
       "      <td>8.0</td>\n",
       "      <td>6.0</td>\n",
       "      <td>9.0</td>\n",
       "      <td>8.0</td>\n",
       "      <td>4.0</td>\n",
       "      <td>4.0</td>\n",
       "      <td>1</td>\n",
       "    </tr>\n",
       "  </tbody>\n",
       "</table>\n",
       "<p>1282 rows × 9 columns</p>\n",
       "</div>"
      ],
      "text/plain": [
       "                                                                                                                        Bios  \\\n",
       "0           Evil communicator. Avid analyst. Freelance gamer. Beer specialist. Incurable troublemaker. Typical entrepreneur.   \n",
       "5                            Beer trailblazer. Avid troublemaker. Pop culture specialist. Freelance explorer. Reader. Gamer.   \n",
       "10    Evil pop culture lover. Passionate travel advocate. Beer nerd. Gamer. Internet aficionado. Freelance bacon evangelist.   \n",
       "15          Evil communicator. Avid analyst. Freelance gamer. Beer specialist. Incurable troublemaker. Typical entrepreneur.   \n",
       "20                           Beer trailblazer. Avid troublemaker. Pop culture specialist. Freelance explorer. Reader. Gamer.   \n",
       "...                                                                                                                      ...   \n",
       "6190                                Alcohol specialist. Incurable web ninja. Travel guru. Zombie fanatic. Hardcore explorer.   \n",
       "6192                         Beer fanatic. Travel geek. Pop cultureaholic. Friendly thinker. Twitter lover. Evil bacon nerd.   \n",
       "6197          Future teen idol. Travel trailblazer. Proud alcohol guru. Communicator. Foodaholic. Twitter maven. Bacon buff.   \n",
       "6212          Future teen idol. Travel trailblazer. Proud alcohol guru. Communicator. Foodaholic. Twitter maven. Bacon buff.   \n",
       "6227          Future teen idol. Travel trailblazer. Proud alcohol guru. Communicator. Foodaholic. Twitter maven. Bacon buff.   \n",
       "\n",
       "      Movies   TV  Religion  Music  Sports  Books  Politics  Cluster #  \n",
       "0        8.0  1.0       2.0    8.0     4.0    7.0       5.0          1  \n",
       "5        7.0  4.0       5.0    5.0     8.0    1.0       4.0          1  \n",
       "10       2.0  3.0       7.0    2.0     9.0    2.0       2.0          1  \n",
       "15       3.0  7.0       0.0    2.0     3.0    8.0       1.0          1  \n",
       "20       1.0  0.0       6.0    7.0     2.0    6.0       0.0          1  \n",
       "...      ...  ...       ...    ...     ...    ...       ...        ...  \n",
       "6190     1.0  6.0       7.0    3.0     3.0    8.0       4.0          1  \n",
       "6192     3.0  5.0       3.0    3.0     0.0    2.0       9.0          1  \n",
       "6197     5.0  3.0       0.0    7.0     7.0    0.0       5.0          1  \n",
       "6212     1.0  7.0       5.0    5.0     9.0    8.0       6.0          1  \n",
       "6227     3.0  8.0       6.0    9.0     8.0    4.0       4.0          1  \n",
       "\n",
       "[1282 rows x 9 columns]"
      ]
     },
     "execution_count": 33,
     "metadata": {},
     "output_type": "execute_result"
    }
   ],
   "source": [
    "des_cluster = cluster_df[cluster_df['Cluster #']==designated_cluster[0]]\n",
    "\n",
    "des_cluster"
   ]
  },
  {
   "cell_type": "markdown",
   "metadata": {},
   "source": [
    "### Finding the Top 10 Similar Profiles to our New Profile"
   ]
  },
  {
   "cell_type": "code",
   "execution_count": 34,
   "metadata": {
    "scrolled": true
   },
   "outputs": [
    {
     "name": "stderr",
     "output_type": "stream",
     "text": [
      "C:\\Users\\SRBaxla\\AppData\\Local\\Temp\\ipykernel_14088\\234815460.py:2: FutureWarning: The frame.append method is deprecated and will be removed from pandas in a future version. Use pandas.concat instead.\n",
      "  des_cluster = des_cluster.append(new_profile, sort=False)\n",
      "C:\\Python310\\lib\\site-packages\\sklearn\\utils\\deprecation.py:87: FutureWarning: Function get_feature_names is deprecated; get_feature_names is deprecated in 1.0 and will be removed in 1.2. Please use get_feature_names_out instead.\n",
      "  warnings.warn(msg, category=FutureWarning)\n"
     ]
    },
    {
     "data": {
      "text/html": [
       "<div>\n",
       "<style scoped>\n",
       "    .dataframe tbody tr th:only-of-type {\n",
       "        vertical-align: middle;\n",
       "    }\n",
       "\n",
       "    .dataframe tbody tr th {\n",
       "        vertical-align: top;\n",
       "    }\n",
       "\n",
       "    .dataframe thead th {\n",
       "        text-align: right;\n",
       "    }\n",
       "</style>\n",
       "<table border=\"1\" class=\"dataframe\">\n",
       "  <thead>\n",
       "    <tr style=\"text-align: right;\">\n",
       "      <th></th>\n",
       "      <th>Movies</th>\n",
       "      <th>TV</th>\n",
       "      <th>Religion</th>\n",
       "      <th>Music</th>\n",
       "      <th>Sports</th>\n",
       "      <th>Books</th>\n",
       "      <th>Politics</th>\n",
       "      <th>advocate</th>\n",
       "      <th>aficionado</th>\n",
       "      <th>alcohol</th>\n",
       "      <th>...</th>\n",
       "      <th>tvaholic</th>\n",
       "      <th>twitter</th>\n",
       "      <th>twitteraholic</th>\n",
       "      <th>typical</th>\n",
       "      <th>unapologetic</th>\n",
       "      <th>wannabe</th>\n",
       "      <th>web</th>\n",
       "      <th>winning</th>\n",
       "      <th>writer</th>\n",
       "      <th>zombie</th>\n",
       "    </tr>\n",
       "  </thead>\n",
       "  <tbody>\n",
       "    <tr>\n",
       "      <th>0</th>\n",
       "      <td>8.0</td>\n",
       "      <td>1.0</td>\n",
       "      <td>2.0</td>\n",
       "      <td>8.0</td>\n",
       "      <td>4.0</td>\n",
       "      <td>7.0</td>\n",
       "      <td>5.0</td>\n",
       "      <td>0</td>\n",
       "      <td>0</td>\n",
       "      <td>0</td>\n",
       "      <td>...</td>\n",
       "      <td>0</td>\n",
       "      <td>0</td>\n",
       "      <td>0</td>\n",
       "      <td>1</td>\n",
       "      <td>0</td>\n",
       "      <td>0</td>\n",
       "      <td>0</td>\n",
       "      <td>0</td>\n",
       "      <td>0</td>\n",
       "      <td>0</td>\n",
       "    </tr>\n",
       "    <tr>\n",
       "      <th>5</th>\n",
       "      <td>7.0</td>\n",
       "      <td>4.0</td>\n",
       "      <td>5.0</td>\n",
       "      <td>5.0</td>\n",
       "      <td>8.0</td>\n",
       "      <td>1.0</td>\n",
       "      <td>4.0</td>\n",
       "      <td>0</td>\n",
       "      <td>0</td>\n",
       "      <td>0</td>\n",
       "      <td>...</td>\n",
       "      <td>0</td>\n",
       "      <td>0</td>\n",
       "      <td>0</td>\n",
       "      <td>0</td>\n",
       "      <td>0</td>\n",
       "      <td>0</td>\n",
       "      <td>0</td>\n",
       "      <td>0</td>\n",
       "      <td>0</td>\n",
       "      <td>0</td>\n",
       "    </tr>\n",
       "    <tr>\n",
       "      <th>10</th>\n",
       "      <td>2.0</td>\n",
       "      <td>3.0</td>\n",
       "      <td>7.0</td>\n",
       "      <td>2.0</td>\n",
       "      <td>9.0</td>\n",
       "      <td>2.0</td>\n",
       "      <td>2.0</td>\n",
       "      <td>1</td>\n",
       "      <td>1</td>\n",
       "      <td>0</td>\n",
       "      <td>...</td>\n",
       "      <td>0</td>\n",
       "      <td>0</td>\n",
       "      <td>0</td>\n",
       "      <td>0</td>\n",
       "      <td>0</td>\n",
       "      <td>0</td>\n",
       "      <td>0</td>\n",
       "      <td>0</td>\n",
       "      <td>0</td>\n",
       "      <td>0</td>\n",
       "    </tr>\n",
       "    <tr>\n",
       "      <th>15</th>\n",
       "      <td>3.0</td>\n",
       "      <td>7.0</td>\n",
       "      <td>0.0</td>\n",
       "      <td>2.0</td>\n",
       "      <td>3.0</td>\n",
       "      <td>8.0</td>\n",
       "      <td>1.0</td>\n",
       "      <td>0</td>\n",
       "      <td>0</td>\n",
       "      <td>0</td>\n",
       "      <td>...</td>\n",
       "      <td>0</td>\n",
       "      <td>0</td>\n",
       "      <td>0</td>\n",
       "      <td>1</td>\n",
       "      <td>0</td>\n",
       "      <td>0</td>\n",
       "      <td>0</td>\n",
       "      <td>0</td>\n",
       "      <td>0</td>\n",
       "      <td>0</td>\n",
       "    </tr>\n",
       "    <tr>\n",
       "      <th>20</th>\n",
       "      <td>1.0</td>\n",
       "      <td>0.0</td>\n",
       "      <td>6.0</td>\n",
       "      <td>7.0</td>\n",
       "      <td>2.0</td>\n",
       "      <td>6.0</td>\n",
       "      <td>0.0</td>\n",
       "      <td>0</td>\n",
       "      <td>0</td>\n",
       "      <td>0</td>\n",
       "      <td>...</td>\n",
       "      <td>0</td>\n",
       "      <td>0</td>\n",
       "      <td>0</td>\n",
       "      <td>0</td>\n",
       "      <td>0</td>\n",
       "      <td>0</td>\n",
       "      <td>0</td>\n",
       "      <td>0</td>\n",
       "      <td>0</td>\n",
       "      <td>0</td>\n",
       "    </tr>\n",
       "    <tr>\n",
       "      <th>...</th>\n",
       "      <td>...</td>\n",
       "      <td>...</td>\n",
       "      <td>...</td>\n",
       "      <td>...</td>\n",
       "      <td>...</td>\n",
       "      <td>...</td>\n",
       "      <td>...</td>\n",
       "      <td>...</td>\n",
       "      <td>...</td>\n",
       "      <td>...</td>\n",
       "      <td>...</td>\n",
       "      <td>...</td>\n",
       "      <td>...</td>\n",
       "      <td>...</td>\n",
       "      <td>...</td>\n",
       "      <td>...</td>\n",
       "      <td>...</td>\n",
       "      <td>...</td>\n",
       "      <td>...</td>\n",
       "      <td>...</td>\n",
       "      <td>...</td>\n",
       "    </tr>\n",
       "    <tr>\n",
       "      <th>6192</th>\n",
       "      <td>3.0</td>\n",
       "      <td>5.0</td>\n",
       "      <td>3.0</td>\n",
       "      <td>3.0</td>\n",
       "      <td>0.0</td>\n",
       "      <td>2.0</td>\n",
       "      <td>9.0</td>\n",
       "      <td>0</td>\n",
       "      <td>0</td>\n",
       "      <td>0</td>\n",
       "      <td>...</td>\n",
       "      <td>0</td>\n",
       "      <td>1</td>\n",
       "      <td>0</td>\n",
       "      <td>0</td>\n",
       "      <td>0</td>\n",
       "      <td>0</td>\n",
       "      <td>0</td>\n",
       "      <td>0</td>\n",
       "      <td>0</td>\n",
       "      <td>0</td>\n",
       "    </tr>\n",
       "    <tr>\n",
       "      <th>6197</th>\n",
       "      <td>5.0</td>\n",
       "      <td>3.0</td>\n",
       "      <td>0.0</td>\n",
       "      <td>7.0</td>\n",
       "      <td>7.0</td>\n",
       "      <td>0.0</td>\n",
       "      <td>5.0</td>\n",
       "      <td>0</td>\n",
       "      <td>0</td>\n",
       "      <td>1</td>\n",
       "      <td>...</td>\n",
       "      <td>0</td>\n",
       "      <td>1</td>\n",
       "      <td>0</td>\n",
       "      <td>0</td>\n",
       "      <td>0</td>\n",
       "      <td>0</td>\n",
       "      <td>0</td>\n",
       "      <td>0</td>\n",
       "      <td>0</td>\n",
       "      <td>0</td>\n",
       "    </tr>\n",
       "    <tr>\n",
       "      <th>6212</th>\n",
       "      <td>1.0</td>\n",
       "      <td>7.0</td>\n",
       "      <td>5.0</td>\n",
       "      <td>5.0</td>\n",
       "      <td>9.0</td>\n",
       "      <td>8.0</td>\n",
       "      <td>6.0</td>\n",
       "      <td>0</td>\n",
       "      <td>0</td>\n",
       "      <td>1</td>\n",
       "      <td>...</td>\n",
       "      <td>0</td>\n",
       "      <td>1</td>\n",
       "      <td>0</td>\n",
       "      <td>0</td>\n",
       "      <td>0</td>\n",
       "      <td>0</td>\n",
       "      <td>0</td>\n",
       "      <td>0</td>\n",
       "      <td>0</td>\n",
       "      <td>0</td>\n",
       "    </tr>\n",
       "    <tr>\n",
       "      <th>6227</th>\n",
       "      <td>3.0</td>\n",
       "      <td>8.0</td>\n",
       "      <td>6.0</td>\n",
       "      <td>9.0</td>\n",
       "      <td>8.0</td>\n",
       "      <td>4.0</td>\n",
       "      <td>4.0</td>\n",
       "      <td>0</td>\n",
       "      <td>0</td>\n",
       "      <td>1</td>\n",
       "      <td>...</td>\n",
       "      <td>0</td>\n",
       "      <td>1</td>\n",
       "      <td>0</td>\n",
       "      <td>0</td>\n",
       "      <td>0</td>\n",
       "      <td>0</td>\n",
       "      <td>0</td>\n",
       "      <td>0</td>\n",
       "      <td>0</td>\n",
       "      <td>0</td>\n",
       "    </tr>\n",
       "    <tr>\n",
       "      <th>6240</th>\n",
       "      <td>0.0</td>\n",
       "      <td>4.0</td>\n",
       "      <td>4.0</td>\n",
       "      <td>1.0</td>\n",
       "      <td>0.0</td>\n",
       "      <td>0.0</td>\n",
       "      <td>8.0</td>\n",
       "      <td>0</td>\n",
       "      <td>0</td>\n",
       "      <td>0</td>\n",
       "      <td>...</td>\n",
       "      <td>0</td>\n",
       "      <td>0</td>\n",
       "      <td>0</td>\n",
       "      <td>0</td>\n",
       "      <td>0</td>\n",
       "      <td>0</td>\n",
       "      <td>0</td>\n",
       "      <td>0</td>\n",
       "      <td>0</td>\n",
       "      <td>0</td>\n",
       "    </tr>\n",
       "  </tbody>\n",
       "</table>\n",
       "<p>1283 rows × 99 columns</p>\n",
       "</div>"
      ],
      "text/plain": [
       "      Movies   TV  Religion  Music  Sports  Books  Politics  advocate  \\\n",
       "0        8.0  1.0       2.0    8.0     4.0    7.0       5.0         0   \n",
       "5        7.0  4.0       5.0    5.0     8.0    1.0       4.0         0   \n",
       "10       2.0  3.0       7.0    2.0     9.0    2.0       2.0         1   \n",
       "15       3.0  7.0       0.0    2.0     3.0    8.0       1.0         0   \n",
       "20       1.0  0.0       6.0    7.0     2.0    6.0       0.0         0   \n",
       "...      ...  ...       ...    ...     ...    ...       ...       ...   \n",
       "6192     3.0  5.0       3.0    3.0     0.0    2.0       9.0         0   \n",
       "6197     5.0  3.0       0.0    7.0     7.0    0.0       5.0         0   \n",
       "6212     1.0  7.0       5.0    5.0     9.0    8.0       6.0         0   \n",
       "6227     3.0  8.0       6.0    9.0     8.0    4.0       4.0         0   \n",
       "6240     0.0  4.0       4.0    1.0     0.0    0.0       8.0         0   \n",
       "\n",
       "      aficionado  alcohol  ...  tvaholic  twitter  twitteraholic  typical  \\\n",
       "0              0        0  ...         0        0              0        1   \n",
       "5              0        0  ...         0        0              0        0   \n",
       "10             1        0  ...         0        0              0        0   \n",
       "15             0        0  ...         0        0              0        1   \n",
       "20             0        0  ...         0        0              0        0   \n",
       "...          ...      ...  ...       ...      ...            ...      ...   \n",
       "6192           0        0  ...         0        1              0        0   \n",
       "6197           0        1  ...         0        1              0        0   \n",
       "6212           0        1  ...         0        1              0        0   \n",
       "6227           0        1  ...         0        1              0        0   \n",
       "6240           0        0  ...         0        0              0        0   \n",
       "\n",
       "      unapologetic  wannabe  web  winning  writer  zombie  \n",
       "0                0        0    0        0       0       0  \n",
       "5                0        0    0        0       0       0  \n",
       "10               0        0    0        0       0       0  \n",
       "15               0        0    0        0       0       0  \n",
       "20               0        0    0        0       0       0  \n",
       "...            ...      ...  ...      ...     ...     ...  \n",
       "6192             0        0    0        0       0       0  \n",
       "6197             0        0    0        0       0       0  \n",
       "6212             0        0    0        0       0       0  \n",
       "6227             0        0    0        0       0       0  \n",
       "6240             0        0    0        0       0       0  \n",
       "\n",
       "[1283 rows x 99 columns]"
      ]
     },
     "execution_count": 34,
     "metadata": {},
     "output_type": "execute_result"
    }
   ],
   "source": [
    "# Appending the new profile data\n",
    "des_cluster = des_cluster.append(new_profile, sort=False)\n",
    "\n",
    "# Fitting the vectorizer to the Bios\n",
    "cluster_x = vectorizer.fit_transform(des_cluster['Bios'])\n",
    "\n",
    "# Creating a new DF that contains the vectorized words\n",
    "cluster_v = pd.DataFrame(cluster_x.toarray(), index=des_cluster.index, columns=vectorizer.get_feature_names())\n",
    "\n",
    "# Joining the Vectorized DF to the previous DF and dropping columns\n",
    "des_cluster = des_cluster.join(cluster_v).drop(['Bios', 'Cluster #'], axis=1)\n",
    "\n",
    "des_cluster"
   ]
  },
  {
   "cell_type": "markdown",
   "metadata": {},
   "source": [
    "#### Correlations to find similar profiles"
   ]
  },
  {
   "cell_type": "code",
   "execution_count": 35,
   "metadata": {},
   "outputs": [],
   "source": [
    "# Finding the Top 10 similar or correlated users to the new user\n",
    "user_n = new_profile.index[0]\n",
    "\n",
    "# Trasnposing the DF so that we are correlating with the index(users) and finding the correlation\n",
    "corr = des_cluster.T.corrwith(des_cluster.loc[user_n])\n",
    "\n",
    "# Creating a DF with the Top 10 most similar profiles\n",
    "top_10_sim = corr.sort_values(ascending=False)[1:11]"
   ]
  },
  {
   "cell_type": "markdown",
   "metadata": {},
   "source": [
    "### Top 10 Similar profiles"
   ]
  },
  {
   "cell_type": "code",
   "execution_count": 36,
   "metadata": {},
   "outputs": [
    {
     "data": {
      "text/html": [
       "<div>\n",
       "<style scoped>\n",
       "    .dataframe tbody tr th:only-of-type {\n",
       "        vertical-align: middle;\n",
       "    }\n",
       "\n",
       "    .dataframe tbody tr th {\n",
       "        vertical-align: top;\n",
       "    }\n",
       "\n",
       "    .dataframe thead th {\n",
       "        text-align: right;\n",
       "    }\n",
       "</style>\n",
       "<table border=\"1\" class=\"dataframe\">\n",
       "  <thead>\n",
       "    <tr style=\"text-align: right;\">\n",
       "      <th></th>\n",
       "      <th>Bios</th>\n",
       "      <th>Movies</th>\n",
       "      <th>TV</th>\n",
       "      <th>Religion</th>\n",
       "      <th>Music</th>\n",
       "      <th>Sports</th>\n",
       "      <th>Books</th>\n",
       "      <th>Politics</th>\n",
       "    </tr>\n",
       "  </thead>\n",
       "  <tbody>\n",
       "    <tr>\n",
       "      <th>1957</th>\n",
       "      <td>Proud music nerd. Food evangelist. Travelaholic. Evil web fanatic. Future teen idol. Analyst.</td>\n",
       "      <td>1</td>\n",
       "      <td>5</td>\n",
       "      <td>5</td>\n",
       "      <td>1</td>\n",
       "      <td>0</td>\n",
       "      <td>0</td>\n",
       "      <td>9</td>\n",
       "    </tr>\n",
       "    <tr>\n",
       "      <th>3055</th>\n",
       "      <td>Falls down a lot. Infuriatingly humble internet practitioner. Freelance alcohol scholar. Friendly entrepreneur. Travel trailblazer. Reader.</td>\n",
       "      <td>1</td>\n",
       "      <td>6</td>\n",
       "      <td>5</td>\n",
       "      <td>2</td>\n",
       "      <td>3</td>\n",
       "      <td>3</td>\n",
       "      <td>7</td>\n",
       "    </tr>\n",
       "    <tr>\n",
       "      <th>593</th>\n",
       "      <td>Zombie evangelist. Troublemaker. Bacon junkie. Tv maven. Travel buff.</td>\n",
       "      <td>0</td>\n",
       "      <td>7</td>\n",
       "      <td>7</td>\n",
       "      <td>3</td>\n",
       "      <td>1</td>\n",
       "      <td>2</td>\n",
       "      <td>7</td>\n",
       "    </tr>\n",
       "    <tr>\n",
       "      <th>2639</th>\n",
       "      <td>Falls down a lot. Extreme web advocate. Award-winning music trailblazer. Friendly student.</td>\n",
       "      <td>2</td>\n",
       "      <td>3</td>\n",
       "      <td>6</td>\n",
       "      <td>5</td>\n",
       "      <td>2</td>\n",
       "      <td>2</td>\n",
       "      <td>9</td>\n",
       "    </tr>\n",
       "    <tr>\n",
       "      <th>6192</th>\n",
       "      <td>Beer fanatic. Travel geek. Pop cultureaholic. Friendly thinker. Twitter lover. Evil bacon nerd.</td>\n",
       "      <td>3</td>\n",
       "      <td>5</td>\n",
       "      <td>3</td>\n",
       "      <td>3</td>\n",
       "      <td>0</td>\n",
       "      <td>2</td>\n",
       "      <td>9</td>\n",
       "    </tr>\n",
       "    <tr>\n",
       "      <th>2412</th>\n",
       "      <td>Unapologetic pop culture specialist. Tv buff. Bacon enthusiast. Creator. Freelance beer advocate. Lifelong reader.</td>\n",
       "      <td>1</td>\n",
       "      <td>8</td>\n",
       "      <td>4</td>\n",
       "      <td>1</td>\n",
       "      <td>2</td>\n",
       "      <td>3</td>\n",
       "      <td>7</td>\n",
       "    </tr>\n",
       "    <tr>\n",
       "      <th>6027</th>\n",
       "      <td>Beer fanatic. Travel geek. Pop cultureaholic. Friendly thinker. Twitter lover. Evil bacon nerd.</td>\n",
       "      <td>0</td>\n",
       "      <td>4</td>\n",
       "      <td>3</td>\n",
       "      <td>2</td>\n",
       "      <td>4</td>\n",
       "      <td>0</td>\n",
       "      <td>8</td>\n",
       "    </tr>\n",
       "    <tr>\n",
       "      <th>3714</th>\n",
       "      <td>Travel practitioner. Music maven. Professional problem solver. Web fanatic. Communicator. Twitter lover. Proud coffee specialist.</td>\n",
       "      <td>3</td>\n",
       "      <td>8</td>\n",
       "      <td>5</td>\n",
       "      <td>0</td>\n",
       "      <td>1</td>\n",
       "      <td>3</td>\n",
       "      <td>8</td>\n",
       "    </tr>\n",
       "    <tr>\n",
       "      <th>4199</th>\n",
       "      <td>Wannabe explorer. Avid introvert. Evil communicator. Music guru. Falls down a lot.</td>\n",
       "      <td>1</td>\n",
       "      <td>7</td>\n",
       "      <td>2</td>\n",
       "      <td>6</td>\n",
       "      <td>1</td>\n",
       "      <td>2</td>\n",
       "      <td>8</td>\n",
       "    </tr>\n",
       "    <tr>\n",
       "      <th>5947</th>\n",
       "      <td>Gamer. Bacon nerd. Internet maven. Avid travel junkie. Beer evangelist. Tv fanatic. Social mediaholic. Proud analyst.</td>\n",
       "      <td>4</td>\n",
       "      <td>6</td>\n",
       "      <td>6</td>\n",
       "      <td>4</td>\n",
       "      <td>4</td>\n",
       "      <td>0</td>\n",
       "      <td>9</td>\n",
       "    </tr>\n",
       "  </tbody>\n",
       "</table>\n",
       "</div>"
      ],
      "text/plain": [
       "                                                                                                                                             Bios  \\\n",
       "1957                                                Proud music nerd. Food evangelist. Travelaholic. Evil web fanatic. Future teen idol. Analyst.   \n",
       "3055  Falls down a lot. Infuriatingly humble internet practitioner. Freelance alcohol scholar. Friendly entrepreneur. Travel trailblazer. Reader.   \n",
       "593                                                                         Zombie evangelist. Troublemaker. Bacon junkie. Tv maven. Travel buff.   \n",
       "2639                                                   Falls down a lot. Extreme web advocate. Award-winning music trailblazer. Friendly student.   \n",
       "6192                                              Beer fanatic. Travel geek. Pop cultureaholic. Friendly thinker. Twitter lover. Evil bacon nerd.   \n",
       "2412                           Unapologetic pop culture specialist. Tv buff. Bacon enthusiast. Creator. Freelance beer advocate. Lifelong reader.   \n",
       "6027                                              Beer fanatic. Travel geek. Pop cultureaholic. Friendly thinker. Twitter lover. Evil bacon nerd.   \n",
       "3714            Travel practitioner. Music maven. Professional problem solver. Web fanatic. Communicator. Twitter lover. Proud coffee specialist.   \n",
       "4199                                                           Wannabe explorer. Avid introvert. Evil communicator. Music guru. Falls down a lot.   \n",
       "5947                        Gamer. Bacon nerd. Internet maven. Avid travel junkie. Beer evangelist. Tv fanatic. Social mediaholic. Proud analyst.   \n",
       "\n",
       "      Movies  TV  Religion  Music  Sports  Books  Politics  \n",
       "1957       1   5         5      1       0      0         9  \n",
       "3055       1   6         5      2       3      3         7  \n",
       "593        0   7         7      3       1      2         7  \n",
       "2639       2   3         6      5       2      2         9  \n",
       "6192       3   5         3      3       0      2         9  \n",
       "2412       1   8         4      1       2      3         7  \n",
       "6027       0   4         3      2       4      0         8  \n",
       "3714       3   8         5      0       1      3         8  \n",
       "4199       1   7         2      6       1      2         8  \n",
       "5947       4   6         6      4       4      0         9  "
      ]
     },
     "execution_count": 36,
     "metadata": {},
     "output_type": "execute_result"
    }
   ],
   "source": [
    "raw_df.loc[top_10_sim.index]"
   ]
  },
  {
   "cell_type": "markdown",
   "metadata": {},
   "source": [
    "### Saving the Classification Model\n",
    "For future use"
   ]
  },
  {
   "cell_type": "code",
   "execution_count": 37,
   "metadata": {},
   "outputs": [
    {
     "data": {
      "text/plain": [
       "['clf_model.joblib']"
      ]
     },
     "execution_count": 37,
     "metadata": {},
     "output_type": "execute_result"
    }
   ],
   "source": [
    "from joblib import dump\n",
    "\n",
    "dump(svm, \"clf_model.joblib\")"
   ]
  },
  {
   "cell_type": "markdown",
   "metadata": {
    "heading_collapsed": true
   },
   "source": [
    "## Conclusion on the Two Different Approaches\n",
    "The results for both approaches are the same.  The new profile ends up in the same cluster whether it is clustered or classified to be there."
   ]
  },
  {
   "cell_type": "code",
   "execution_count": null,
   "metadata": {
    "hidden": true
   },
   "outputs": [],
   "source": []
  }
 ],
 "metadata": {
  "kernelspec": {
   "display_name": "Python 3 (ipykernel)",
   "language": "python",
   "name": "python3"
  },
  "language_info": {
   "codemirror_mode": {
    "name": "ipython",
    "version": 3
   },
   "file_extension": ".py",
   "mimetype": "text/x-python",
   "name": "python",
   "nbconvert_exporter": "python",
   "pygments_lexer": "ipython3",
   "version": "3.10.2"
  }
 },
 "nbformat": 4,
 "nbformat_minor": 2
}
