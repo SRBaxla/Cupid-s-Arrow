{
 "cells": [
  {
   "cell_type": "markdown",
   "metadata": {},
   "source": [
    "# Modeling the Refined Data\n",
    "Using Clustering then Classification Model"
   ]
  },
  {
   "cell_type": "markdown",
   "metadata": {},
   "source": [
    "### Importing Libraries and Data"
   ]
  },
  {
   "cell_type": "code",
   "execution_count": 1,
   "metadata": {},
   "outputs": [],
   "source": [
    "import pandas as pd\n",
    "pd.set_option('display.max_colwidth', 500)\n",
    "import numpy as np\n",
    "import matplotlib.pyplot as plt\n",
    "import seaborn as sns\n",
    "import _pickle as pickle\n",
    "from sklearn.feature_extraction.text import CountVectorizer\n",
    "from sklearn.cluster import AgglomerativeClustering, KMeans\n",
    "from sklearn.metrics import calinski_harabasz_score, silhouette_score, davies_bouldin_score\n",
    "from sklearn.preprocessing import MinMaxScaler\n",
    "from sklearn.model_selection import train_test_split\n",
    "from sklearn.metrics import classification_report\n",
    "from tqdm import tqdm_notebook as tqdm"
   ]
  },
  {
   "cell_type": "markdown",
   "metadata": {},
   "source": [
    "#### Loading the Profiles"
   ]
  },
  {
   "cell_type": "code",
   "execution_count": 2,
   "metadata": {},
   "outputs": [
    {
     "data": {
      "text/html": [
       "<div>\n",
       "<style scoped>\n",
       "    .dataframe tbody tr th:only-of-type {\n",
       "        vertical-align: middle;\n",
       "    }\n",
       "\n",
       "    .dataframe tbody tr th {\n",
       "        vertical-align: top;\n",
       "    }\n",
       "\n",
       "    .dataframe thead th {\n",
       "        text-align: right;\n",
       "    }\n",
       "</style>\n",
       "<table border=\"1\" class=\"dataframe\">\n",
       "  <thead>\n",
       "    <tr style=\"text-align: right;\">\n",
       "      <th></th>\n",
       "      <th>Bios</th>\n",
       "      <th>Gender</th>\n",
       "      <th>Movies</th>\n",
       "      <th>Religion</th>\n",
       "      <th>Music</th>\n",
       "      <th>Politics</th>\n",
       "      <th>Social Media</th>\n",
       "      <th>Sports</th>\n",
       "      <th>Age</th>\n",
       "    </tr>\n",
       "  </thead>\n",
       "  <tbody>\n",
       "    <tr>\n",
       "      <th>0</th>\n",
       "      <td>Evil communicator. Avid analyst. Freelance gamer. Beer specialist. Incurable troublemaker. Typical entrepreneur.</td>\n",
       "      <td>female</td>\n",
       "      <td>[Adventure, Action]</td>\n",
       "      <td>Other</td>\n",
       "      <td>[Rock, HipHop]</td>\n",
       "      <td>Moderate</td>\n",
       "      <td>[TikTok, Twitter]</td>\n",
       "      <td>[Basketball, Baseball, Football]</td>\n",
       "      <td>19</td>\n",
       "    </tr>\n",
       "    <tr>\n",
       "      <th>1</th>\n",
       "      <td>Alcohol lover. Evil analyst. Infuriatingly humble gamer. Future teen idol. Entrepreneur.</td>\n",
       "      <td>female</td>\n",
       "      <td>[Adventure, Drama, Action]</td>\n",
       "      <td>Christian</td>\n",
       "      <td>[Rock, HipHop]</td>\n",
       "      <td>Conservative</td>\n",
       "      <td>[Youtube, Reddit, Facebook]</td>\n",
       "      <td>[Football]</td>\n",
       "      <td>18</td>\n",
       "    </tr>\n",
       "    <tr>\n",
       "      <th>2</th>\n",
       "      <td>Amateur pop culture ninja. Social media expert. Future teen idol. Web lover. Travel advocate. Student. Music scholar.</td>\n",
       "      <td>male</td>\n",
       "      <td>[RomCom, Drama]</td>\n",
       "      <td>Muslim</td>\n",
       "      <td>[Pop, Rock]</td>\n",
       "      <td>Liberal</td>\n",
       "      <td>[Facebook, Youtube, Twitter]</td>\n",
       "      <td>[Basketball, Football]</td>\n",
       "      <td>20</td>\n",
       "    </tr>\n",
       "    <tr>\n",
       "      <th>3</th>\n",
       "      <td>Wannabe baconaholic. Music evangelist. Hardcore alcohol ninja. Social media fan.</td>\n",
       "      <td>male</td>\n",
       "      <td>[Thriller, Drama, Action]</td>\n",
       "      <td>Muslim</td>\n",
       "      <td>[Jazz, HipHop, Rock]</td>\n",
       "      <td>Liberal</td>\n",
       "      <td>[Youtube, Reddit, Twitter]</td>\n",
       "      <td>[Hockey, Football]</td>\n",
       "      <td>19</td>\n",
       "    </tr>\n",
       "    <tr>\n",
       "      <th>4</th>\n",
       "      <td>Wannabe creator. Student. Social media enthusiast. Amateur gamer. Twitter ninja. Friendly problem solver. Devoted web guru.</td>\n",
       "      <td>male</td>\n",
       "      <td>[Comedy, Adventure, RomCom]</td>\n",
       "      <td>Christian</td>\n",
       "      <td>[Pop, Rock, HipHop]</td>\n",
       "      <td>Conservative</td>\n",
       "      <td>[Youtube, Facebook, SnapChat]</td>\n",
       "      <td>[Baseball, Hockey, Soccer]</td>\n",
       "      <td>22</td>\n",
       "    </tr>\n",
       "  </tbody>\n",
       "</table>\n",
       "</div>"
      ],
      "text/plain": [
       "                                                                                                                          Bios  \\\n",
       "0             Evil communicator. Avid analyst. Freelance gamer. Beer specialist. Incurable troublemaker. Typical entrepreneur.   \n",
       "1                                     Alcohol lover. Evil analyst. Infuriatingly humble gamer. Future teen idol. Entrepreneur.   \n",
       "2        Amateur pop culture ninja. Social media expert. Future teen idol. Web lover. Travel advocate. Student. Music scholar.   \n",
       "3                                             Wannabe baconaholic. Music evangelist. Hardcore alcohol ninja. Social media fan.   \n",
       "4  Wannabe creator. Student. Social media enthusiast. Amateur gamer. Twitter ninja. Friendly problem solver. Devoted web guru.   \n",
       "\n",
       "   Gender                       Movies   Religion                 Music  \\\n",
       "0  female          [Adventure, Action]      Other        [Rock, HipHop]   \n",
       "1  female   [Adventure, Drama, Action]  Christian        [Rock, HipHop]   \n",
       "2    male              [RomCom, Drama]     Muslim           [Pop, Rock]   \n",
       "3    male    [Thriller, Drama, Action]     Muslim  [Jazz, HipHop, Rock]   \n",
       "4    male  [Comedy, Adventure, RomCom]  Christian   [Pop, Rock, HipHop]   \n",
       "\n",
       "       Politics                   Social Media  \\\n",
       "0      Moderate              [TikTok, Twitter]   \n",
       "1  Conservative    [Youtube, Reddit, Facebook]   \n",
       "2       Liberal   [Facebook, Youtube, Twitter]   \n",
       "3       Liberal     [Youtube, Reddit, Twitter]   \n",
       "4  Conservative  [Youtube, Facebook, SnapChat]   \n",
       "\n",
       "                             Sports  Age  \n",
       "0  [Basketball, Baseball, Football]   19  \n",
       "1                        [Football]   18  \n",
       "2            [Basketball, Football]   20  \n",
       "3                [Hockey, Football]   19  \n",
       "4        [Baseball, Hockey, Soccer]   22  "
      ]
     },
     "execution_count": 2,
     "metadata": {},
     "output_type": "execute_result"
    }
   ],
   "source": [
    "# Loading in the cleaned DF\n",
    "with open(\"Data-Gathering-Creation/refined_profiles.pkl\",'rb') as fp:\n",
    "    df = pickle.load(fp)\n",
    "\n",
    "# Viewing the DF    \n",
    "df.head()"
   ]
  },
  {
   "cell_type": "markdown",
   "metadata": {},
   "source": [
    "## Clustering the Refined Data"
   ]
  },
  {
   "cell_type": "markdown",
   "metadata": {},
   "source": [
    "### Vectorizing"
   ]
  },
  {
   "cell_type": "code",
   "execution_count": 3,
   "metadata": {
    "scrolled": true
   },
   "outputs": [],
   "source": [
    "def string_convert(x):\n",
    "    \"\"\"\n",
    "    First converts the lists in the DF into strings\n",
    "    \"\"\"\n",
    "    if isinstance(x, list):\n",
    "        return ' '.join(x)\n",
    "    else:\n",
    "        return x\n",
    "    \n",
    "# Looping through the columns and applying the function\n",
    "for col in df.columns:\n",
    "    df[col] = df[col].apply(string_convert)"
   ]
  },
  {
   "cell_type": "code",
   "execution_count": 4,
   "metadata": {},
   "outputs": [
    {
     "data": {
      "text/html": [
       "<div>\n",
       "<style scoped>\n",
       "    .dataframe tbody tr th:only-of-type {\n",
       "        vertical-align: middle;\n",
       "    }\n",
       "\n",
       "    .dataframe tbody tr th {\n",
       "        vertical-align: top;\n",
       "    }\n",
       "\n",
       "    .dataframe thead th {\n",
       "        text-align: right;\n",
       "    }\n",
       "</style>\n",
       "<table border=\"1\" class=\"dataframe\">\n",
       "  <thead>\n",
       "    <tr style=\"text-align: right;\">\n",
       "      <th></th>\n",
       "      <th>Bios</th>\n",
       "      <th>Gender</th>\n",
       "      <th>Movies</th>\n",
       "      <th>Religion</th>\n",
       "      <th>Music</th>\n",
       "      <th>Politics</th>\n",
       "      <th>Social Media</th>\n",
       "      <th>Sports</th>\n",
       "      <th>Age</th>\n",
       "    </tr>\n",
       "  </thead>\n",
       "  <tbody>\n",
       "    <tr>\n",
       "      <th>0</th>\n",
       "      <td>Evil communicator. Avid analyst. Freelance gamer. Beer specialist. Incurable troublemaker. Typical entrepreneur.</td>\n",
       "      <td>female</td>\n",
       "      <td>Adventure Action</td>\n",
       "      <td>Other</td>\n",
       "      <td>Rock HipHop</td>\n",
       "      <td>Moderate</td>\n",
       "      <td>TikTok Twitter</td>\n",
       "      <td>Basketball Baseball Football</td>\n",
       "      <td>19</td>\n",
       "    </tr>\n",
       "    <tr>\n",
       "      <th>1</th>\n",
       "      <td>Alcohol lover. Evil analyst. Infuriatingly humble gamer. Future teen idol. Entrepreneur.</td>\n",
       "      <td>female</td>\n",
       "      <td>Adventure Drama Action</td>\n",
       "      <td>Christian</td>\n",
       "      <td>Rock HipHop</td>\n",
       "      <td>Conservative</td>\n",
       "      <td>Youtube Reddit Facebook</td>\n",
       "      <td>Football</td>\n",
       "      <td>18</td>\n",
       "    </tr>\n",
       "    <tr>\n",
       "      <th>2</th>\n",
       "      <td>Amateur pop culture ninja. Social media expert. Future teen idol. Web lover. Travel advocate. Student. Music scholar.</td>\n",
       "      <td>male</td>\n",
       "      <td>RomCom Drama</td>\n",
       "      <td>Muslim</td>\n",
       "      <td>Pop Rock</td>\n",
       "      <td>Liberal</td>\n",
       "      <td>Facebook Youtube Twitter</td>\n",
       "      <td>Basketball Football</td>\n",
       "      <td>20</td>\n",
       "    </tr>\n",
       "    <tr>\n",
       "      <th>3</th>\n",
       "      <td>Wannabe baconaholic. Music evangelist. Hardcore alcohol ninja. Social media fan.</td>\n",
       "      <td>male</td>\n",
       "      <td>Thriller Drama Action</td>\n",
       "      <td>Muslim</td>\n",
       "      <td>Jazz HipHop Rock</td>\n",
       "      <td>Liberal</td>\n",
       "      <td>Youtube Reddit Twitter</td>\n",
       "      <td>Hockey Football</td>\n",
       "      <td>19</td>\n",
       "    </tr>\n",
       "    <tr>\n",
       "      <th>4</th>\n",
       "      <td>Wannabe creator. Student. Social media enthusiast. Amateur gamer. Twitter ninja. Friendly problem solver. Devoted web guru.</td>\n",
       "      <td>male</td>\n",
       "      <td>Comedy Adventure RomCom</td>\n",
       "      <td>Christian</td>\n",
       "      <td>Pop Rock HipHop</td>\n",
       "      <td>Conservative</td>\n",
       "      <td>Youtube Facebook SnapChat</td>\n",
       "      <td>Baseball Hockey Soccer</td>\n",
       "      <td>22</td>\n",
       "    </tr>\n",
       "    <tr>\n",
       "      <th>...</th>\n",
       "      <td>...</td>\n",
       "      <td>...</td>\n",
       "      <td>...</td>\n",
       "      <td>...</td>\n",
       "      <td>...</td>\n",
       "      <td>...</td>\n",
       "      <td>...</td>\n",
       "      <td>...</td>\n",
       "      <td>...</td>\n",
       "    </tr>\n",
       "    <tr>\n",
       "      <th>6235</th>\n",
       "      <td>Freelance web aficionado. Coffee nerd. Twitter maven. Devoted pop culture guru. Tv scholar. Avid explorer.</td>\n",
       "      <td>female</td>\n",
       "      <td>Comedy Adventure</td>\n",
       "      <td>Agnostic</td>\n",
       "      <td>Pop Country Rock</td>\n",
       "      <td>Liberal</td>\n",
       "      <td>Facebook Twitter</td>\n",
       "      <td>Baseball Hockey Football</td>\n",
       "      <td>22</td>\n",
       "    </tr>\n",
       "    <tr>\n",
       "      <th>6236</th>\n",
       "      <td>Bacon lover. Organizer. Subtly charming music advocate. Travel ninja. Passionate reader. Avid web fan. Extreme pop culture scholar.</td>\n",
       "      <td>male</td>\n",
       "      <td>Thriller Drama Adventure</td>\n",
       "      <td>Agnostic</td>\n",
       "      <td>Jazz HipHop</td>\n",
       "      <td>Conservative</td>\n",
       "      <td>Youtube Reddit Facebook</td>\n",
       "      <td>Baseball Football</td>\n",
       "      <td>18</td>\n",
       "    </tr>\n",
       "    <tr>\n",
       "      <th>6237</th>\n",
       "      <td>Unapologetic coffee advocate. Professional tv geek. Alcohol expert. Social media fan. Pop culture practitioner.</td>\n",
       "      <td>female</td>\n",
       "      <td>Adventure</td>\n",
       "      <td>Muslim</td>\n",
       "      <td>Rock</td>\n",
       "      <td>Liberal</td>\n",
       "      <td>Reddit Facebook Pinterest</td>\n",
       "      <td>Baseball Basketball</td>\n",
       "      <td>19</td>\n",
       "    </tr>\n",
       "    <tr>\n",
       "      <th>6238</th>\n",
       "      <td>Subtly charming pop culture aficionado. Social mediaholic. Bacon junkie. Wannabe twitter advocate. Friendly internet practitioner.</td>\n",
       "      <td>female</td>\n",
       "      <td>Comedy Drama</td>\n",
       "      <td>Catholic</td>\n",
       "      <td>HipHop</td>\n",
       "      <td>Conservative</td>\n",
       "      <td>Instagram Facebook</td>\n",
       "      <td>Hockey Football</td>\n",
       "      <td>23</td>\n",
       "    </tr>\n",
       "    <tr>\n",
       "      <th>6239</th>\n",
       "      <td>Incurable explorer. Devoted communicator. Subtly charming organizer. Thinker. Beer maven. Avid web specialist. Twitter ninja.</td>\n",
       "      <td>female</td>\n",
       "      <td>Comedy Adventure</td>\n",
       "      <td>Agnostic</td>\n",
       "      <td>Country Rock HipHop</td>\n",
       "      <td>Liberal</td>\n",
       "      <td>Instagram Youtube Twitter</td>\n",
       "      <td>Basketball Football</td>\n",
       "      <td>23</td>\n",
       "    </tr>\n",
       "  </tbody>\n",
       "</table>\n",
       "<p>6240 rows × 9 columns</p>\n",
       "</div>"
      ],
      "text/plain": [
       "                                                                                                                                     Bios  \\\n",
       "0                        Evil communicator. Avid analyst. Freelance gamer. Beer specialist. Incurable troublemaker. Typical entrepreneur.   \n",
       "1                                                Alcohol lover. Evil analyst. Infuriatingly humble gamer. Future teen idol. Entrepreneur.   \n",
       "2                   Amateur pop culture ninja. Social media expert. Future teen idol. Web lover. Travel advocate. Student. Music scholar.   \n",
       "3                                                        Wannabe baconaholic. Music evangelist. Hardcore alcohol ninja. Social media fan.   \n",
       "4             Wannabe creator. Student. Social media enthusiast. Amateur gamer. Twitter ninja. Friendly problem solver. Devoted web guru.   \n",
       "...                                                                                                                                   ...   \n",
       "6235                           Freelance web aficionado. Coffee nerd. Twitter maven. Devoted pop culture guru. Tv scholar. Avid explorer.   \n",
       "6236  Bacon lover. Organizer. Subtly charming music advocate. Travel ninja. Passionate reader. Avid web fan. Extreme pop culture scholar.   \n",
       "6237                      Unapologetic coffee advocate. Professional tv geek. Alcohol expert. Social media fan. Pop culture practitioner.   \n",
       "6238   Subtly charming pop culture aficionado. Social mediaholic. Bacon junkie. Wannabe twitter advocate. Friendly internet practitioner.   \n",
       "6239        Incurable explorer. Devoted communicator. Subtly charming organizer. Thinker. Beer maven. Avid web specialist. Twitter ninja.   \n",
       "\n",
       "      Gender                    Movies   Religion                Music  \\\n",
       "0     female          Adventure Action      Other          Rock HipHop   \n",
       "1     female    Adventure Drama Action  Christian          Rock HipHop   \n",
       "2       male              RomCom Drama     Muslim             Pop Rock   \n",
       "3       male     Thriller Drama Action     Muslim     Jazz HipHop Rock   \n",
       "4       male   Comedy Adventure RomCom  Christian      Pop Rock HipHop   \n",
       "...      ...                       ...        ...                  ...   \n",
       "6235  female          Comedy Adventure   Agnostic     Pop Country Rock   \n",
       "6236    male  Thriller Drama Adventure   Agnostic          Jazz HipHop   \n",
       "6237  female                 Adventure     Muslim                 Rock   \n",
       "6238  female              Comedy Drama   Catholic               HipHop   \n",
       "6239  female          Comedy Adventure   Agnostic  Country Rock HipHop   \n",
       "\n",
       "          Politics               Social Media                        Sports  \\\n",
       "0         Moderate             TikTok Twitter  Basketball Baseball Football   \n",
       "1     Conservative    Youtube Reddit Facebook                      Football   \n",
       "2          Liberal   Facebook Youtube Twitter           Basketball Football   \n",
       "3          Liberal     Youtube Reddit Twitter               Hockey Football   \n",
       "4     Conservative  Youtube Facebook SnapChat        Baseball Hockey Soccer   \n",
       "...            ...                        ...                           ...   \n",
       "6235       Liberal           Facebook Twitter      Baseball Hockey Football   \n",
       "6236  Conservative    Youtube Reddit Facebook             Baseball Football   \n",
       "6237       Liberal  Reddit Facebook Pinterest           Baseball Basketball   \n",
       "6238  Conservative         Instagram Facebook               Hockey Football   \n",
       "6239       Liberal  Instagram Youtube Twitter           Basketball Football   \n",
       "\n",
       "      Age  \n",
       "0      19  \n",
       "1      18  \n",
       "2      20  \n",
       "3      19  \n",
       "4      22  \n",
       "...   ...  \n",
       "6235   22  \n",
       "6236   18  \n",
       "6237   19  \n",
       "6238   23  \n",
       "6239   23  \n",
       "\n",
       "[6240 rows x 9 columns]"
      ]
     },
     "execution_count": 4,
     "metadata": {},
     "output_type": "execute_result"
    }
   ],
   "source": [
    "df"
   ]
  },
  {
   "cell_type": "code",
   "execution_count": 10,
   "metadata": {},
   "outputs": [],
   "source": [
    "#droping gender\n",
    "df.drop(['Gender'],axis=1, inplace = True)\n",
    "def vectorization(df, columns):\n",
    "    \"\"\"\n",
    "    Using recursion, iterate through the df until all the categories have been vectorized\n",
    "    \"\"\"\n",
    "    column_name = columns[0]\n",
    "    \n",
    "    # Checking if the column name has been removed already\n",
    "    if column_name not in ['Bios', 'Movies','Religion', 'Music', 'Politics', 'Social Media', 'Sports']:\n",
    "        return df\n",
    "    \n",
    "    if column_name in ['Religion', 'Politics']:\n",
    "        df[column_name.lower()] = df[column_name].cat.codes\n",
    "        \n",
    "        df = df.drop(column_name, 1)\n",
    "        \n",
    "        return vectorization(df, df.columns)\n",
    "    \n",
    "    else:\n",
    "        # Instantiating the Vectorizer\n",
    "        vectorizer = CountVectorizer()\n",
    "        \n",
    "        # Fitting the vectorizer to the Bios\n",
    "        x = vectorizer.fit_transform(df[column_name])\n",
    "\n",
    "        # Creating a new DF that contains the vectorized words\n",
    "        df_wrds = pd.DataFrame(x.toarray(), columns=vectorizer.get_feature_names())\n",
    "\n",
    "        # Concating the words DF with the original DF\n",
    "        new_df = pd.concat([df, df_wrds], axis=1)\n",
    "\n",
    "        # Dropping the column because it is no longer needed in place of vectorization\n",
    "        new_df = new_df.drop(column_name, axis=1)\n",
    "        \n",
    "        return vectorization(new_df, new_df.columns) "
   ]
  },
  {
   "cell_type": "code",
   "execution_count": 11,
   "metadata": {},
   "outputs": [
    {
     "name": "stderr",
     "output_type": "stream",
     "text": [
      "C:\\Python310\\lib\\site-packages\\sklearn\\utils\\deprecation.py:87: FutureWarning: Function get_feature_names is deprecated; get_feature_names is deprecated in 1.0 and will be removed in 1.2. Please use get_feature_names_out instead.\n",
      "  warnings.warn(msg, category=FutureWarning)\n",
      "C:\\Python310\\lib\\site-packages\\sklearn\\utils\\deprecation.py:87: FutureWarning: Function get_feature_names is deprecated; get_feature_names is deprecated in 1.0 and will be removed in 1.2. Please use get_feature_names_out instead.\n",
      "  warnings.warn(msg, category=FutureWarning)\n",
      "C:\\Users\\SRBaxla\\AppData\\Local\\Temp\\ipykernel_4664\\2776229198.py:16: FutureWarning: In a future version of pandas all arguments of DataFrame.drop except for the argument 'labels' will be keyword-only.\n",
      "  df = df.drop(column_name, 1)\n",
      "C:\\Python310\\lib\\site-packages\\sklearn\\utils\\deprecation.py:87: FutureWarning: Function get_feature_names is deprecated; get_feature_names is deprecated in 1.0 and will be removed in 1.2. Please use get_feature_names_out instead.\n",
      "  warnings.warn(msg, category=FutureWarning)\n",
      "C:\\Users\\SRBaxla\\AppData\\Local\\Temp\\ipykernel_4664\\2776229198.py:16: FutureWarning: In a future version of pandas all arguments of DataFrame.drop except for the argument 'labels' will be keyword-only.\n",
      "  df = df.drop(column_name, 1)\n",
      "C:\\Python310\\lib\\site-packages\\sklearn\\utils\\deprecation.py:87: FutureWarning: Function get_feature_names is deprecated; get_feature_names is deprecated in 1.0 and will be removed in 1.2. Please use get_feature_names_out instead.\n",
      "  warnings.warn(msg, category=FutureWarning)\n",
      "C:\\Python310\\lib\\site-packages\\sklearn\\utils\\deprecation.py:87: FutureWarning: Function get_feature_names is deprecated; get_feature_names is deprecated in 1.0 and will be removed in 1.2. Please use get_feature_names_out instead.\n",
      "  warnings.warn(msg, category=FutureWarning)\n"
     ]
    }
   ],
   "source": [
    "# Creating the vectorized DF\n",
    "vect_df = vectorization(df, df.columns)"
   ]
  },
  {
   "cell_type": "code",
   "execution_count": 12,
   "metadata": {
    "scrolled": true
   },
   "outputs": [],
   "source": [
    "# Scaling\n",
    "scaler = MinMaxScaler()\n",
    "\n",
    "vect_df = pd.DataFrame(scaler.fit_transform(vect_df), index=vect_df.index, columns=vect_df.columns)"
   ]
  },
  {
   "cell_type": "code",
   "execution_count": 13,
   "metadata": {
    "scrolled": true
   },
   "outputs": [
    {
     "data": {
      "text/html": [
       "<div>\n",
       "<style scoped>\n",
       "    .dataframe tbody tr th:only-of-type {\n",
       "        vertical-align: middle;\n",
       "    }\n",
       "\n",
       "    .dataframe tbody tr th {\n",
       "        vertical-align: top;\n",
       "    }\n",
       "\n",
       "    .dataframe thead th {\n",
       "        text-align: right;\n",
       "    }\n",
       "</style>\n",
       "<table border=\"1\" class=\"dataframe\">\n",
       "  <thead>\n",
       "    <tr style=\"text-align: right;\">\n",
       "      <th></th>\n",
       "      <th>Age</th>\n",
       "      <th>advocate</th>\n",
       "      <th>aficionado</th>\n",
       "      <th>alcohol</th>\n",
       "      <th>alcoholaholic</th>\n",
       "      <th>amateur</th>\n",
       "      <th>analyst</th>\n",
       "      <th>animals</th>\n",
       "      <th>apathy</th>\n",
       "      <th>avid</th>\n",
       "      <th>...</th>\n",
       "      <th>snapchat</th>\n",
       "      <th>tiktok</th>\n",
       "      <th>twitter</th>\n",
       "      <th>youtube</th>\n",
       "      <th>baseball</th>\n",
       "      <th>basketball</th>\n",
       "      <th>football</th>\n",
       "      <th>hockey</th>\n",
       "      <th>other</th>\n",
       "      <th>soccer</th>\n",
       "    </tr>\n",
       "  </thead>\n",
       "  <tbody>\n",
       "    <tr>\n",
       "      <th>0</th>\n",
       "      <td>0.029412</td>\n",
       "      <td>0.0</td>\n",
       "      <td>0.0</td>\n",
       "      <td>0.0</td>\n",
       "      <td>0.0</td>\n",
       "      <td>0.0</td>\n",
       "      <td>1.0</td>\n",
       "      <td>0.0</td>\n",
       "      <td>0.0</td>\n",
       "      <td>1.0</td>\n",
       "      <td>...</td>\n",
       "      <td>0.0</td>\n",
       "      <td>1.0</td>\n",
       "      <td>1.0</td>\n",
       "      <td>0.0</td>\n",
       "      <td>1.0</td>\n",
       "      <td>1.0</td>\n",
       "      <td>1.0</td>\n",
       "      <td>0.0</td>\n",
       "      <td>0.0</td>\n",
       "      <td>0.0</td>\n",
       "    </tr>\n",
       "    <tr>\n",
       "      <th>1</th>\n",
       "      <td>0.000000</td>\n",
       "      <td>0.0</td>\n",
       "      <td>0.0</td>\n",
       "      <td>1.0</td>\n",
       "      <td>0.0</td>\n",
       "      <td>0.0</td>\n",
       "      <td>1.0</td>\n",
       "      <td>0.0</td>\n",
       "      <td>0.0</td>\n",
       "      <td>0.0</td>\n",
       "      <td>...</td>\n",
       "      <td>0.0</td>\n",
       "      <td>0.0</td>\n",
       "      <td>0.0</td>\n",
       "      <td>1.0</td>\n",
       "      <td>0.0</td>\n",
       "      <td>0.0</td>\n",
       "      <td>1.0</td>\n",
       "      <td>0.0</td>\n",
       "      <td>0.0</td>\n",
       "      <td>0.0</td>\n",
       "    </tr>\n",
       "    <tr>\n",
       "      <th>2</th>\n",
       "      <td>0.058824</td>\n",
       "      <td>1.0</td>\n",
       "      <td>0.0</td>\n",
       "      <td>0.0</td>\n",
       "      <td>0.0</td>\n",
       "      <td>1.0</td>\n",
       "      <td>0.0</td>\n",
       "      <td>0.0</td>\n",
       "      <td>0.0</td>\n",
       "      <td>0.0</td>\n",
       "      <td>...</td>\n",
       "      <td>0.0</td>\n",
       "      <td>0.0</td>\n",
       "      <td>1.0</td>\n",
       "      <td>1.0</td>\n",
       "      <td>0.0</td>\n",
       "      <td>1.0</td>\n",
       "      <td>1.0</td>\n",
       "      <td>0.0</td>\n",
       "      <td>0.0</td>\n",
       "      <td>0.0</td>\n",
       "    </tr>\n",
       "    <tr>\n",
       "      <th>3</th>\n",
       "      <td>0.029412</td>\n",
       "      <td>0.0</td>\n",
       "      <td>0.0</td>\n",
       "      <td>1.0</td>\n",
       "      <td>0.0</td>\n",
       "      <td>0.0</td>\n",
       "      <td>0.0</td>\n",
       "      <td>0.0</td>\n",
       "      <td>0.0</td>\n",
       "      <td>0.0</td>\n",
       "      <td>...</td>\n",
       "      <td>0.0</td>\n",
       "      <td>0.0</td>\n",
       "      <td>1.0</td>\n",
       "      <td>1.0</td>\n",
       "      <td>0.0</td>\n",
       "      <td>0.0</td>\n",
       "      <td>1.0</td>\n",
       "      <td>1.0</td>\n",
       "      <td>0.0</td>\n",
       "      <td>0.0</td>\n",
       "    </tr>\n",
       "    <tr>\n",
       "      <th>4</th>\n",
       "      <td>0.117647</td>\n",
       "      <td>0.0</td>\n",
       "      <td>0.0</td>\n",
       "      <td>0.0</td>\n",
       "      <td>0.0</td>\n",
       "      <td>1.0</td>\n",
       "      <td>0.0</td>\n",
       "      <td>0.0</td>\n",
       "      <td>0.0</td>\n",
       "      <td>0.0</td>\n",
       "      <td>...</td>\n",
       "      <td>1.0</td>\n",
       "      <td>0.0</td>\n",
       "      <td>0.0</td>\n",
       "      <td>1.0</td>\n",
       "      <td>1.0</td>\n",
       "      <td>0.0</td>\n",
       "      <td>0.0</td>\n",
       "      <td>1.0</td>\n",
       "      <td>0.0</td>\n",
       "      <td>1.0</td>\n",
       "    </tr>\n",
       "    <tr>\n",
       "      <th>...</th>\n",
       "      <td>...</td>\n",
       "      <td>...</td>\n",
       "      <td>...</td>\n",
       "      <td>...</td>\n",
       "      <td>...</td>\n",
       "      <td>...</td>\n",
       "      <td>...</td>\n",
       "      <td>...</td>\n",
       "      <td>...</td>\n",
       "      <td>...</td>\n",
       "      <td>...</td>\n",
       "      <td>...</td>\n",
       "      <td>...</td>\n",
       "      <td>...</td>\n",
       "      <td>...</td>\n",
       "      <td>...</td>\n",
       "      <td>...</td>\n",
       "      <td>...</td>\n",
       "      <td>...</td>\n",
       "      <td>...</td>\n",
       "      <td>...</td>\n",
       "    </tr>\n",
       "    <tr>\n",
       "      <th>6235</th>\n",
       "      <td>0.117647</td>\n",
       "      <td>0.0</td>\n",
       "      <td>1.0</td>\n",
       "      <td>0.0</td>\n",
       "      <td>0.0</td>\n",
       "      <td>0.0</td>\n",
       "      <td>0.0</td>\n",
       "      <td>0.0</td>\n",
       "      <td>0.0</td>\n",
       "      <td>1.0</td>\n",
       "      <td>...</td>\n",
       "      <td>0.0</td>\n",
       "      <td>0.0</td>\n",
       "      <td>1.0</td>\n",
       "      <td>0.0</td>\n",
       "      <td>1.0</td>\n",
       "      <td>0.0</td>\n",
       "      <td>1.0</td>\n",
       "      <td>1.0</td>\n",
       "      <td>0.0</td>\n",
       "      <td>0.0</td>\n",
       "    </tr>\n",
       "    <tr>\n",
       "      <th>6236</th>\n",
       "      <td>0.000000</td>\n",
       "      <td>1.0</td>\n",
       "      <td>0.0</td>\n",
       "      <td>0.0</td>\n",
       "      <td>0.0</td>\n",
       "      <td>0.0</td>\n",
       "      <td>0.0</td>\n",
       "      <td>0.0</td>\n",
       "      <td>0.0</td>\n",
       "      <td>1.0</td>\n",
       "      <td>...</td>\n",
       "      <td>0.0</td>\n",
       "      <td>0.0</td>\n",
       "      <td>0.0</td>\n",
       "      <td>1.0</td>\n",
       "      <td>1.0</td>\n",
       "      <td>0.0</td>\n",
       "      <td>1.0</td>\n",
       "      <td>0.0</td>\n",
       "      <td>0.0</td>\n",
       "      <td>0.0</td>\n",
       "    </tr>\n",
       "    <tr>\n",
       "      <th>6237</th>\n",
       "      <td>0.029412</td>\n",
       "      <td>1.0</td>\n",
       "      <td>0.0</td>\n",
       "      <td>1.0</td>\n",
       "      <td>0.0</td>\n",
       "      <td>0.0</td>\n",
       "      <td>0.0</td>\n",
       "      <td>0.0</td>\n",
       "      <td>0.0</td>\n",
       "      <td>0.0</td>\n",
       "      <td>...</td>\n",
       "      <td>0.0</td>\n",
       "      <td>0.0</td>\n",
       "      <td>0.0</td>\n",
       "      <td>0.0</td>\n",
       "      <td>1.0</td>\n",
       "      <td>1.0</td>\n",
       "      <td>0.0</td>\n",
       "      <td>0.0</td>\n",
       "      <td>0.0</td>\n",
       "      <td>0.0</td>\n",
       "    </tr>\n",
       "    <tr>\n",
       "      <th>6238</th>\n",
       "      <td>0.147059</td>\n",
       "      <td>1.0</td>\n",
       "      <td>1.0</td>\n",
       "      <td>0.0</td>\n",
       "      <td>0.0</td>\n",
       "      <td>0.0</td>\n",
       "      <td>0.0</td>\n",
       "      <td>0.0</td>\n",
       "      <td>0.0</td>\n",
       "      <td>0.0</td>\n",
       "      <td>...</td>\n",
       "      <td>0.0</td>\n",
       "      <td>0.0</td>\n",
       "      <td>0.0</td>\n",
       "      <td>0.0</td>\n",
       "      <td>0.0</td>\n",
       "      <td>0.0</td>\n",
       "      <td>1.0</td>\n",
       "      <td>1.0</td>\n",
       "      <td>0.0</td>\n",
       "      <td>0.0</td>\n",
       "    </tr>\n",
       "    <tr>\n",
       "      <th>6239</th>\n",
       "      <td>0.147059</td>\n",
       "      <td>0.0</td>\n",
       "      <td>0.0</td>\n",
       "      <td>0.0</td>\n",
       "      <td>0.0</td>\n",
       "      <td>0.0</td>\n",
       "      <td>0.0</td>\n",
       "      <td>0.0</td>\n",
       "      <td>0.0</td>\n",
       "      <td>1.0</td>\n",
       "      <td>...</td>\n",
       "      <td>0.0</td>\n",
       "      <td>0.0</td>\n",
       "      <td>1.0</td>\n",
       "      <td>1.0</td>\n",
       "      <td>0.0</td>\n",
       "      <td>1.0</td>\n",
       "      <td>1.0</td>\n",
       "      <td>0.0</td>\n",
       "      <td>0.0</td>\n",
       "      <td>0.0</td>\n",
       "    </tr>\n",
       "  </tbody>\n",
       "</table>\n",
       "<p>6240 rows × 146 columns</p>\n",
       "</div>"
      ],
      "text/plain": [
       "           Age  advocate  aficionado  alcohol  alcoholaholic  amateur  \\\n",
       "0     0.029412       0.0         0.0      0.0            0.0      0.0   \n",
       "1     0.000000       0.0         0.0      1.0            0.0      0.0   \n",
       "2     0.058824       1.0         0.0      0.0            0.0      1.0   \n",
       "3     0.029412       0.0         0.0      1.0            0.0      0.0   \n",
       "4     0.117647       0.0         0.0      0.0            0.0      1.0   \n",
       "...        ...       ...         ...      ...            ...      ...   \n",
       "6235  0.117647       0.0         1.0      0.0            0.0      0.0   \n",
       "6236  0.000000       1.0         0.0      0.0            0.0      0.0   \n",
       "6237  0.029412       1.0         0.0      1.0            0.0      0.0   \n",
       "6238  0.147059       1.0         1.0      0.0            0.0      0.0   \n",
       "6239  0.147059       0.0         0.0      0.0            0.0      0.0   \n",
       "\n",
       "      analyst  animals  apathy  avid  ...  snapchat  tiktok  twitter  youtube  \\\n",
       "0         1.0      0.0     0.0   1.0  ...       0.0     1.0      1.0      0.0   \n",
       "1         1.0      0.0     0.0   0.0  ...       0.0     0.0      0.0      1.0   \n",
       "2         0.0      0.0     0.0   0.0  ...       0.0     0.0      1.0      1.0   \n",
       "3         0.0      0.0     0.0   0.0  ...       0.0     0.0      1.0      1.0   \n",
       "4         0.0      0.0     0.0   0.0  ...       1.0     0.0      0.0      1.0   \n",
       "...       ...      ...     ...   ...  ...       ...     ...      ...      ...   \n",
       "6235      0.0      0.0     0.0   1.0  ...       0.0     0.0      1.0      0.0   \n",
       "6236      0.0      0.0     0.0   1.0  ...       0.0     0.0      0.0      1.0   \n",
       "6237      0.0      0.0     0.0   0.0  ...       0.0     0.0      0.0      0.0   \n",
       "6238      0.0      0.0     0.0   0.0  ...       0.0     0.0      0.0      0.0   \n",
       "6239      0.0      0.0     0.0   1.0  ...       0.0     0.0      1.0      1.0   \n",
       "\n",
       "      baseball  basketball  football  hockey  other  soccer  \n",
       "0          1.0         1.0       1.0     0.0    0.0     0.0  \n",
       "1          0.0         0.0       1.0     0.0    0.0     0.0  \n",
       "2          0.0         1.0       1.0     0.0    0.0     0.0  \n",
       "3          0.0         0.0       1.0     1.0    0.0     0.0  \n",
       "4          1.0         0.0       0.0     1.0    0.0     1.0  \n",
       "...        ...         ...       ...     ...    ...     ...  \n",
       "6235       1.0         0.0       1.0     1.0    0.0     0.0  \n",
       "6236       1.0         0.0       1.0     0.0    0.0     0.0  \n",
       "6237       1.0         1.0       0.0     0.0    0.0     0.0  \n",
       "6238       0.0         0.0       1.0     1.0    0.0     0.0  \n",
       "6239       0.0         1.0       1.0     0.0    0.0     0.0  \n",
       "\n",
       "[6240 rows x 146 columns]"
      ]
     },
     "execution_count": 13,
     "metadata": {},
     "output_type": "execute_result"
    }
   ],
   "source": [
    "vect_df"
   ]
  },
  {
   "cell_type": "markdown",
   "metadata": {},
   "source": [
    "### PCA"
   ]
  },
  {
   "cell_type": "code",
   "execution_count": 14,
   "metadata": {},
   "outputs": [
    {
     "name": "stdout",
     "output_type": "stream",
     "text": [
      "PCA reduces the # of features from 146 to 108\n"
     ]
    },
    {
     "data": {
      "text/plain": [
       "0.9890491161002161"
      ]
     },
     "execution_count": 14,
     "metadata": {},
     "output_type": "execute_result"
    }
   ],
   "source": [
    "from sklearn.decomposition import PCA\n",
    "\n",
    "# Instantiating PCA\n",
    "pca = PCA()\n",
    "\n",
    "# Fitting and Transforming the DF\n",
    "df_pca = pca.fit_transform(vect_df)\n",
    "\n",
    "# Finding the exact number of features that explain at least 99% of the variance in the dataset\n",
    "total_explained_variance = pca.explained_variance_ratio_.cumsum()\n",
    "n_over_9 = len(total_explained_variance[total_explained_variance>=.99])\n",
    "n_to_reach_9 = vect_df.shape[1] - n_over_9\n",
    "\n",
    "print(\"PCA reduces the # of features from\", vect_df.shape[1], 'to', n_to_reach_9)\n",
    "\n",
    "# Reducing the dataset to the number of features determined before\n",
    "pca = PCA(n_components=n_to_reach_9)\n",
    "\n",
    "# Fitting and transforming the dataset to the stated number of features\n",
    "df_pca = pca.fit_transform(vect_df)\n",
    "\n",
    "# Seeing the variance ratio that still remains after the dataset has been reduced\n",
    "pca.explained_variance_ratio_.cumsum()[-1]"
   ]
  },
  {
   "cell_type": "markdown",
   "metadata": {},
   "source": [
    "### Performing Hierarchical Agglomerative Clustering\n",
    "- First finding the optimum number of clusters"
   ]
  },
  {
   "cell_type": "code",
   "execution_count": 15,
   "metadata": {
    "scrolled": true
   },
   "outputs": [
    {
     "name": "stderr",
     "output_type": "stream",
     "text": [
      "C:\\Users\\SRBaxla\\AppData\\Local\\Temp\\ipykernel_4664\\1790531919.py:15: TqdmDeprecationWarning: This function will be removed in tqdm==5.0.0\n",
      "Please use `tqdm.notebook.tqdm` instead of `tqdm.tqdm_notebook`\n",
      "  for i in tqdm(cluster_cnt):\n"
     ]
    },
    {
     "data": {
      "application/vnd.jupyter.widget-view+json": {
       "model_id": "29bb53fed1314703a91c70c91820aeb2",
       "version_major": 2,
       "version_minor": 0
      },
      "text/plain": [
       "  0%|          | 0/9 [00:00<?, ?it/s]"
      ]
     },
     "metadata": {},
     "output_type": "display_data"
    }
   ],
   "source": [
    "# Setting the amount of clusters to test out\n",
    "cluster_cnt = [i for i in range(2, 11, 1)]\n",
    "\n",
    "# Establishing empty lists to store the scores for the evaluation metrics\n",
    "ch_scores = []\n",
    "\n",
    "s_scores = []\n",
    "\n",
    "db_scores = []\n",
    "\n",
    "# The DF for evaluation\n",
    "eval_df = df_pca\n",
    "\n",
    "# Looping through different iterations for the number of clusters\n",
    "for i in tqdm(cluster_cnt):\n",
    "    \n",
    "    # Clustering with different number of clusters\n",
    "    clust = AgglomerativeClustering(n_clusters=i, linkage='complete')\n",
    "    \n",
    "    clust.fit(eval_df)\n",
    "    \n",
    "    cluster_assignments = clust.labels_\n",
    "    \n",
    "    # Appending the scores to the empty lists\n",
    "    ch_scores.append(calinski_harabasz_score(eval_df, cluster_assignments))\n",
    "    \n",
    "    s_scores.append(silhouette_score(eval_df, cluster_assignments))\n",
    "    \n",
    "    db_scores.append(davies_bouldin_score(eval_df, cluster_assignments))"
   ]
  },
  {
   "cell_type": "markdown",
   "metadata": {},
   "source": [
    "### Helper Function to Evaluate the Clusters"
   ]
  },
  {
   "cell_type": "code",
   "execution_count": 16,
   "metadata": {},
   "outputs": [],
   "source": [
    "def cluster_eval(y, x):\n",
    "    \"\"\"\n",
    "    Prints the scores of a set evaluation metric. Prints out the max and min values of the evaluation scores.\n",
    "    \"\"\"\n",
    "    \n",
    "    # Creating a DataFrame for returning the max and min scores for each cluster\n",
    "    df = pd.DataFrame(columns=['Cluster Score'], index=[i for i in range(2, len(y)+2)])\n",
    "    df['Cluster Score'] = y\n",
    "    \n",
    "    print('Max Value:\\nCluster #', df[df['Cluster Score']==df['Cluster Score'].max()])\n",
    "    print('\\nMin Value:\\nCluster #', df[df['Cluster Score']==df['Cluster Score'].min()])\n",
    "    \n",
    "    # Plotting out the scores based on cluster count\n",
    "    plt.figure(figsize=(16,6))\n",
    "    plt.style.use('bmh')\n",
    "    plt.plot(x,y)\n",
    "    plt.xlabel('# of Clusters')\n",
    "    plt.ylabel('Score')\n",
    "    plt.show()"
   ]
  },
  {
   "cell_type": "markdown",
   "metadata": {},
   "source": [
    "### Evaluation of Clusters"
   ]
  },
  {
   "cell_type": "code",
   "execution_count": 17,
   "metadata": {},
   "outputs": [
    {
     "name": "stdout",
     "output_type": "stream",
     "text": [
      "The Calinski-Harabasz Score (find max score):\n",
      "Max Value:\n",
      "Cluster #    Cluster Score\n",
      "3      59.846055\n",
      "\n",
      "Min Value:\n",
      "Cluster #     Cluster Score\n",
      "10      46.219118\n"
     ]
    },
    {
     "data": {
      "image/png": "[encoded data removed]",
      "text/plain": [
       "<Figure size 1152x432 with 1 Axes>"
      ]
     },
     "metadata": {
      "needs_background": "light"
     },
     "output_type": "display_data"
    },
    {
     "name": "stdout",
     "output_type": "stream",
     "text": [
      "\n",
      "The Silhouette Coefficient Score (find max score):\n",
      "Max Value:\n",
      "Cluster #     Cluster Score\n",
      "10       0.013678\n",
      "\n",
      "Min Value:\n",
      "Cluster #    Cluster Score\n",
      "7       0.009365\n"
     ]
    },
    {
     "data": {
      "image/png": "[encoded data removed]",
      "text/plain": [
       "<Figure size 1152x432 with 1 Axes>"
      ]
     },
     "metadata": {
      "needs_background": "light"
     },
     "output_type": "display_data"
    },
    {
     "name": "stdout",
     "output_type": "stream",
     "text": [
      "\n",
      "The Davies-Bouldin Score (find minimum score):\n",
      "Max Value:\n",
      "Cluster #    Cluster Score\n",
      "2       8.485928\n",
      "\n",
      "Min Value:\n",
      "Cluster #     Cluster Score\n",
      "10        6.17587\n"
     ]
    },
    {
     "data": {
      "image/png": "[encoded data removed]",
      "text/plain": [
       "<Figure size 1152x432 with 1 Axes>"
      ]
     },
     "metadata": {
      "needs_background": "light"
     },
     "output_type": "display_data"
    }
   ],
   "source": [
    "print(\"The Calinski-Harabasz Score (find max score):\")\n",
    "cluster_eval(ch_scores, cluster_cnt)\n",
    "\n",
    "print(\"\\nThe Silhouette Coefficient Score (find max score):\")\n",
    "cluster_eval(s_scores, cluster_cnt)\n",
    "\n",
    "print(\"\\nThe Davies-Bouldin Score (find minimum score):\")\n",
    "cluster_eval(db_scores, cluster_cnt)"
   ]
  },
  {
   "cell_type": "markdown",
   "metadata": {},
   "source": [
    "### Running HAC\n",
    "Again but with the optimum cluster count"
   ]
  },
  {
   "cell_type": "code",
   "execution_count": 18,
   "metadata": {},
   "outputs": [],
   "source": [
    "# Instantiating HAC based on the optimum number of clusters found\n",
    "hac = AgglomerativeClustering(n_clusters=3, linkage='complete')\n",
    "\n",
    "# Fitting\n",
    "hac.fit(df_pca)\n",
    "\n",
    "# Getting cluster assignments\n",
    "cluster_assignments = hac.labels_\n",
    "\n",
    "# Assigning the clusters to each profile\n",
    "df['Cluster #'] = cluster_assignments\n",
    "\n",
    "vect_df['Cluster #'] = cluster_assignments"
   ]
  },
  {
   "cell_type": "markdown",
   "metadata": {},
   "source": [
    "#### Exporting the Clustered DF and Vectorized DF"
   ]
  },
  {
   "cell_type": "code",
   "execution_count": 19,
   "metadata": {},
   "outputs": [],
   "source": [
    "with open(\"refined_cluster.pkl\",'wb') as fp:\n",
    "    pickle.dump(df, fp)\n",
    "    \n",
    "with open(\"vectorized_refined.pkl\", 'wb') as fp:\n",
    "    pickle.dump(vect_df, fp)"
   ]
  },
  {
   "cell_type": "markdown",
   "metadata": {},
   "source": [
    "## Classification of the New Profile"
   ]
  },
  {
   "cell_type": "markdown",
   "metadata": {},
   "source": [
    "### Importing the Different Classification Models"
   ]
  },
  {
   "cell_type": "code",
   "execution_count": 20,
   "metadata": {},
   "outputs": [],
   "source": [
    "# Importing 3 models\n",
    "from sklearn.dummy import DummyClassifier\n",
    "from sklearn.neighbors import KNeighborsClassifier\n",
    "from sklearn.svm import SVC\n",
    "from sklearn.naive_bayes import ComplementNB\n",
    "from sklearn.linear_model import LogisticRegression\n",
    "from sklearn.ensemble import AdaBoostClassifier"
   ]
  },
  {
   "cell_type": "markdown",
   "metadata": {},
   "source": [
    "### Train, test, splitting"
   ]
  },
  {
   "cell_type": "code",
   "execution_count": 21,
   "metadata": {},
   "outputs": [
    {
     "name": "stderr",
     "output_type": "stream",
     "text": [
      "C:\\Users\\SRBaxla\\AppData\\Local\\Temp\\ipykernel_4664\\2862715081.py:2: FutureWarning: In a future version of pandas all arguments of DataFrame.drop except for the argument 'labels' will be keyword-only.\n",
      "  X = vect_df.drop([\"Cluster #\"], 1)\n"
     ]
    }
   ],
   "source": [
    "# Assigning the split variables\n",
    "X = vect_df.drop([\"Cluster #\"], 1)\n",
    "y = vect_df['Cluster #']\n",
    "\n",
    "# Train, test, split\n",
    "X_train, X_test, y_train, y_test = train_test_split(X, y)"
   ]
  },
  {
   "cell_type": "markdown",
   "metadata": {},
   "source": [
    "### Finding the Best Model\n",
    "- Dummy (Baseline Model)\n",
    "- KNN\n",
    "- SVM\n",
    "- NaiveBayes\n",
    "- Logistic Regression\n",
    "- Adaboost"
   ]
  },
  {
   "cell_type": "code",
   "execution_count": 23,
   "metadata": {},
   "outputs": [],
   "source": [
    "# Dummy\n",
    "dummy = DummyClassifier(strategy='stratified')\n",
    "\n",
    "# KNN\n",
    "knn = KNeighborsClassifier()\n",
    "\n",
    "# SVM\n",
    "svm = SVC(gamma='scale')\n",
    "\n",
    "# NaiveBayes\n",
    "nb = ComplementNB()\n",
    "\n",
    "# Logistic Regression\n",
    "lr = LogisticRegression()\n",
    "\n",
    "# Adaboost\n",
    "adab = AdaBoostClassifier()\n",
    "\n",
    "# List of models\n",
    "models = [dummy, knn, svm, nb, lr, adab]\n",
    "\n",
    "# List of model names\n",
    "names = ['Dummy', 'KNN', 'SVM', 'NaiveBayes', 'Logistic Regression', 'Adaboost']\n",
    "\n",
    "# Zipping the lists\n",
    "classifiers = dict(zip(names, models))"
   ]
  },
  {
   "cell_type": "code",
   "execution_count": 41,
   "metadata": {},
   "outputs": [
    {
     "data": {
      "image/png": "[encoded data removed]",
      "text/plain": [
       "<Figure size 432x288 with 1 Axes>"
      ]
     },
     "metadata": {},
     "output_type": "display_data"
    }
   ],
   "source": [
    "# Visualization of the different cluster counts\n",
    "vect_df['Cluster #'].value_counts().plot(kind='pie', title='Count of Class Distribution');"
   ]
  },
  {
   "cell_type": "markdown",
   "metadata": {},
   "source": [
    "Since we are dealing with an imbalanced dataset _(because each cluster is not guaranteed to have the same amount of profiles)_, we will resort to using the __Macro Avg__ and __F1 Score__ for evaluating the performances of each model."
   ]
  },
  {
   "cell_type": "code",
   "execution_count": 24,
   "metadata": {},
   "outputs": [
    {
     "name": "stderr",
     "output_type": "stream",
     "text": [
      "C:\\Users\\SRBaxla\\AppData\\Local\\Temp\\ipykernel_4664\\490852974.py:5: TqdmDeprecationWarning: This function will be removed in tqdm==5.0.0\n",
      "Please use `tqdm.notebook.tqdm` instead of `tqdm.tqdm_notebook`\n",
      "  for name, model in tqdm(classifiers.items()):\n"
     ]
    },
    {
     "data": {
      "application/vnd.jupyter.widget-view+json": {
       "model_id": "9c743829f46b4c039f1c02df4920ac34",
       "version_major": 2,
       "version_minor": 0
      },
      "text/plain": [
       "  0%|          | 0/6 [00:00<?, ?it/s]"
      ]
     },
     "metadata": {},
     "output_type": "display_data"
    },
    {
     "name": "stdout",
     "output_type": "stream",
     "text": [
      "\n",
      "Dummy (Macro Avg - F1 Score):\n",
      "0.3295122132473576\n",
      "\n",
      "KNN (Macro Avg - F1 Score):\n",
      "1.0\n",
      "\n",
      "SVM (Macro Avg - F1 Score):\n",
      "0.9949866252906028\n",
      "\n",
      "NaiveBayes (Macro Avg - F1 Score):\n",
      "0.8708368970549466\n"
     ]
    },
    {
     "name": "stderr",
     "output_type": "stream",
     "text": [
      "C:\\Python310\\lib\\site-packages\\sklearn\\linear_model\\_logistic.py:814: ConvergenceWarning: lbfgs failed to converge (status=1):\n",
      "STOP: TOTAL NO. of ITERATIONS REACHED LIMIT.\n",
      "\n",
      "Increase the number of iterations (max_iter) or scale the data as shown in:\n",
      "    https://scikit-learn.org/stable/modules/preprocessing.html\n",
      "Please also refer to the documentation for alternative solver options:\n",
      "    https://scikit-learn.org/stable/modules/linear_model.html#logistic-regression\n",
      "  n_iter_i = _check_optimize_result(\n"
     ]
    },
    {
     "name": "stdout",
     "output_type": "stream",
     "text": [
      "\n",
      "Logistic Regression (Macro Avg - F1 Score):\n",
      "0.9323047439912697\n",
      "\n",
      "Adaboost (Macro Avg - F1 Score):\n",
      "0.8320137893074929\n"
     ]
    }
   ],
   "source": [
    "# Dictionary containing the model names and their scores\n",
    "models_f1 = {}\n",
    "\n",
    "# Looping through each model's predictions and getting their classification reports\n",
    "for name, model in tqdm(classifiers.items()):\n",
    "    # Fitting the model\n",
    "    model.fit(X_train, y_train)\n",
    "    \n",
    "    print('\\n'+ name + ' (Macro Avg - F1 Score):')\n",
    "    \n",
    "    # Classification Report\n",
    "    report = classification_report(y_test, model.predict(X_test), output_dict=True)\n",
    "    f1 = report['macro avg']['f1-score']\n",
    "    \n",
    "    # Assigning to the Dictionary\n",
    "    models_f1[name] = f1\n",
    "    \n",
    "    print(f1)"
   ]
  },
  {
   "cell_type": "markdown",
   "metadata": {},
   "source": [
    "#### Model with the Best Performance"
   ]
  },
  {
   "cell_type": "code",
   "execution_count": 43,
   "metadata": {},
   "outputs": [
    {
     "name": "stdout",
     "output_type": "stream",
     "text": [
      "KNN Score: 0.9985819741217224\n"
     ]
    }
   ],
   "source": [
    "print(max(models_f1, key=models_f1.get), 'Score:', max(models_f1.values()))"
   ]
  },
  {
   "cell_type": "markdown",
   "metadata": {},
   "source": [
    "### Fitting the Best Model to our Dataset\n",
    "_(Optional: Tune the model with GridSearch)_"
   ]
  },
  {
   "cell_type": "code",
   "execution_count": 44,
   "metadata": {},
   "outputs": [
    {
     "data": {
      "text/plain": [
       "ComplementNB()"
      ]
     },
     "execution_count": 44,
     "metadata": {},
     "output_type": "execute_result"
    }
   ],
   "source": [
    "# Fitting the model\n",
    "nb.fit(X, y)"
   ]
  },
  {
   "cell_type": "markdown",
   "metadata": {},
   "source": [
    "### Saving the Classification Model\n",
    "For future use"
   ]
  },
  {
   "cell_type": "code",
   "execution_count": 45,
   "metadata": {},
   "outputs": [
    {
     "data": {
      "text/plain": [
       "['refined_model.joblib']"
      ]
     },
     "execution_count": 45,
     "metadata": {},
     "output_type": "execute_result"
    }
   ],
   "source": [
    "from joblib import dump\n",
    "\n",
    "dump(nb, \"refined_model.joblib\")"
   ]
  },
  {
   "cell_type": "code",
   "execution_count": null,
   "metadata": {},
   "outputs": [],
   "source": []
  }
 ],
 "metadata": {
  "kernelspec": {
   "display_name": "Python 3 (ipykernel)",
   "language": "python",
   "name": "python3"
  },
  "language_info": {
   "codemirror_mode": {
    "name": "ipython",
    "version": 3
   },
   "file_extension": ".py",
   "mimetype": "text/x-python",
   "name": "python",
   "nbconvert_exporter": "python",
   "pygments_lexer": "ipython3",
   "version": "3.10.2"
  }
 },
 "nbformat": 4,
 "nbformat_minor": 2
}
